{
  "nbformat": 4,
  "nbformat_minor": 0,
  "metadata": {
    "colab": {
      "name": "Ted Talk Views Prediction.ipynb",
      "provenance": [],
      "collapsed_sections": [],
      "mount_file_id": "1TuR43qVC4eDbbAaU6KQKxfG9eEKr0s6L",
      "authorship_tag": "ABX9TyMCPejyB7u5AzhyLAym7G7r",
      "include_colab_link": true
    },
    "kernelspec": {
      "name": "python3",
      "display_name": "Python 3"
    },
    "language_info": {
      "name": "python"
    }
  },
  "cells": [
    {
      "cell_type": "markdown",
      "metadata": {
        "id": "view-in-github",
        "colab_type": "text"
      },
      "source": [
        "<a href=\"https://colab.research.google.com/github/Aehteshaam-Shaikh/Ted-Talk-views-prediction/blob/main/Ted_Talk_Views_Prediction.ipynb\" target=\"_parent\"><img src=\"https://colab.research.google.com/assets/colab-badge.svg\" alt=\"Open In Colab\"/></a>"
      ]
    },
    {
      "cell_type": "code",
      "metadata": {
        "colab": {
          "base_uri": "https://localhost:8080/"
        },
        "id": "coua2NP4NdW1",
        "outputId": "27f2f12b-b489-45ac-8a6b-0d32396eef18"
      },
      "source": [
        "from google.colab import drive\n",
        "drive.mount('/content/drive')"
      ],
      "execution_count": null,
      "outputs": [
        {
          "output_type": "stream",
          "name": "stdout",
          "text": [
            "Mounted at /content/drive\n"
          ]
        }
      ]
    },
    {
      "cell_type": "code",
      "metadata": {
        "id": "KIxDZBQGN8hj"
      },
      "source": [
        "#importing the libraries\n",
        "import pandas as pd\n",
        "import numpy as np\n",
        "from datetime import datetime\n",
        "import seaborn as sns\n",
        "import matplotlib.pyplot as plt\n",
        "%matplotlib inline\n",
        "from sklearn.linear_model import LinearRegression\n",
        "\n",
        "import warnings\n",
        "warnings.filterwarnings('ignore')"
      ],
      "execution_count": 74,
      "outputs": []
    },
    {
      "cell_type": "code",
      "metadata": {
        "id": "rei0CFHsNmgp"
      },
      "source": [
        "Ted_df = pd.read_csv(\"/content/drive/MyDrive/Ted Talks Views Prediction - Aehteshaam Shaikh/data_ted_talks.csv\")"
      ],
      "execution_count": 284,
      "outputs": []
    },
    {
      "cell_type": "markdown",
      "metadata": {
        "id": "Vc1RbjU2O93c"
      },
      "source": [
        "#Exploratory Data Analysis "
      ]
    },
    {
      "cell_type": "code",
      "metadata": {
        "colab": {
          "base_uri": "https://localhost:8080/",
          "height": 581
        },
        "id": "nKgkn5ArN7Mw",
        "outputId": "49abbee2-8ccc-40eb-a3c5-197ea2331edd"
      },
      "source": [
        "# Let's see how the dataset looks like\n",
        "Ted_df.head()"
      ],
      "execution_count": 285,
      "outputs": [
        {
          "output_type": "execute_result",
          "data": {
            "text/html": [
              "<div>\n",
              "<style scoped>\n",
              "    .dataframe tbody tr th:only-of-type {\n",
              "        vertical-align: middle;\n",
              "    }\n",
              "\n",
              "    .dataframe tbody tr th {\n",
              "        vertical-align: top;\n",
              "    }\n",
              "\n",
              "    .dataframe thead th {\n",
              "        text-align: right;\n",
              "    }\n",
              "</style>\n",
              "<table border=\"1\" class=\"dataframe\">\n",
              "  <thead>\n",
              "    <tr style=\"text-align: right;\">\n",
              "      <th></th>\n",
              "      <th>talk_id</th>\n",
              "      <th>title</th>\n",
              "      <th>speaker_1</th>\n",
              "      <th>all_speakers</th>\n",
              "      <th>occupations</th>\n",
              "      <th>about_speakers</th>\n",
              "      <th>views</th>\n",
              "      <th>recorded_date</th>\n",
              "      <th>published_date</th>\n",
              "      <th>event</th>\n",
              "      <th>native_lang</th>\n",
              "      <th>available_lang</th>\n",
              "      <th>comments</th>\n",
              "      <th>duration</th>\n",
              "      <th>topics</th>\n",
              "      <th>related_talks</th>\n",
              "      <th>url</th>\n",
              "      <th>description</th>\n",
              "      <th>transcript</th>\n",
              "    </tr>\n",
              "  </thead>\n",
              "  <tbody>\n",
              "    <tr>\n",
              "      <th>0</th>\n",
              "      <td>1</td>\n",
              "      <td>Averting the climate crisis</td>\n",
              "      <td>Al Gore</td>\n",
              "      <td>{0: 'Al Gore'}</td>\n",
              "      <td>{0: ['climate advocate']}</td>\n",
              "      <td>{0: 'Nobel Laureate Al Gore focused the world’...</td>\n",
              "      <td>3523392</td>\n",
              "      <td>2006-02-25</td>\n",
              "      <td>2006-06-27</td>\n",
              "      <td>TED2006</td>\n",
              "      <td>en</td>\n",
              "      <td>['ar', 'bg', 'cs', 'de', 'el', 'en', 'es', 'fa...</td>\n",
              "      <td>272.0</td>\n",
              "      <td>977</td>\n",
              "      <td>['alternative energy', 'cars', 'climate change...</td>\n",
              "      <td>{243: 'New thinking on the climate crisis', 54...</td>\n",
              "      <td>https://www.ted.com/talks/al_gore_averting_the...</td>\n",
              "      <td>With the same humor and humanity he exuded in ...</td>\n",
              "      <td>Thank you so much, Chris. And it's truly a gre...</td>\n",
              "    </tr>\n",
              "    <tr>\n",
              "      <th>1</th>\n",
              "      <td>92</td>\n",
              "      <td>The best stats you've ever seen</td>\n",
              "      <td>Hans Rosling</td>\n",
              "      <td>{0: 'Hans Rosling'}</td>\n",
              "      <td>{0: ['global health expert; data visionary']}</td>\n",
              "      <td>{0: 'In Hans Rosling’s hands, data sings. Glob...</td>\n",
              "      <td>14501685</td>\n",
              "      <td>2006-02-22</td>\n",
              "      <td>2006-06-27</td>\n",
              "      <td>TED2006</td>\n",
              "      <td>en</td>\n",
              "      <td>['ar', 'az', 'bg', 'bn', 'bs', 'cs', 'da', 'de...</td>\n",
              "      <td>628.0</td>\n",
              "      <td>1190</td>\n",
              "      <td>['Africa', 'Asia', 'Google', 'demo', 'economic...</td>\n",
              "      <td>{2056: \"Own your body's data\", 2296: 'A visual...</td>\n",
              "      <td>https://www.ted.com/talks/hans_rosling_the_bes...</td>\n",
              "      <td>You've never seen data presented like this. Wi...</td>\n",
              "      <td>About 10 years ago, I took on the task to teac...</td>\n",
              "    </tr>\n",
              "    <tr>\n",
              "      <th>2</th>\n",
              "      <td>7</td>\n",
              "      <td>Simplicity sells</td>\n",
              "      <td>David Pogue</td>\n",
              "      <td>{0: 'David Pogue'}</td>\n",
              "      <td>{0: ['technology columnist']}</td>\n",
              "      <td>{0: 'David Pogue is the personal technology co...</td>\n",
              "      <td>1920832</td>\n",
              "      <td>2006-02-24</td>\n",
              "      <td>2006-06-27</td>\n",
              "      <td>TED2006</td>\n",
              "      <td>en</td>\n",
              "      <td>['ar', 'bg', 'de', 'el', 'en', 'es', 'fa', 'fr...</td>\n",
              "      <td>124.0</td>\n",
              "      <td>1286</td>\n",
              "      <td>['computers', 'entertainment', 'interface desi...</td>\n",
              "      <td>{1725: '10 top time-saving tech tips', 2274: '...</td>\n",
              "      <td>https://www.ted.com/talks/david_pogue_simplici...</td>\n",
              "      <td>New York Times columnist David Pogue takes aim...</td>\n",
              "      <td>(Music: \"The Sound of Silence,\" Simon &amp; Garfun...</td>\n",
              "    </tr>\n",
              "    <tr>\n",
              "      <th>3</th>\n",
              "      <td>53</td>\n",
              "      <td>Greening the ghetto</td>\n",
              "      <td>Majora Carter</td>\n",
              "      <td>{0: 'Majora Carter'}</td>\n",
              "      <td>{0: ['activist for environmental justice']}</td>\n",
              "      <td>{0: 'Majora Carter redefined the field of envi...</td>\n",
              "      <td>2664069</td>\n",
              "      <td>2006-02-26</td>\n",
              "      <td>2006-06-27</td>\n",
              "      <td>TED2006</td>\n",
              "      <td>en</td>\n",
              "      <td>['ar', 'bg', 'bn', 'ca', 'cs', 'de', 'en', 'es...</td>\n",
              "      <td>219.0</td>\n",
              "      <td>1116</td>\n",
              "      <td>['MacArthur grant', 'activism', 'business', 'c...</td>\n",
              "      <td>{1041: '3 stories of local eco-entrepreneurshi...</td>\n",
              "      <td>https://www.ted.com/talks/majora_carter_greeni...</td>\n",
              "      <td>In an emotionally charged talk, MacArthur-winn...</td>\n",
              "      <td>If you're here today — and I'm very happy that...</td>\n",
              "    </tr>\n",
              "    <tr>\n",
              "      <th>4</th>\n",
              "      <td>66</td>\n",
              "      <td>Do schools kill creativity?</td>\n",
              "      <td>Sir Ken Robinson</td>\n",
              "      <td>{0: 'Sir Ken Robinson'}</td>\n",
              "      <td>{0: ['author', 'educator']}</td>\n",
              "      <td>{0: \"Creativity expert Sir Ken Robinson challe...</td>\n",
              "      <td>65051954</td>\n",
              "      <td>2006-02-25</td>\n",
              "      <td>2006-06-27</td>\n",
              "      <td>TED2006</td>\n",
              "      <td>en</td>\n",
              "      <td>['af', 'ar', 'az', 'be', 'bg', 'bn', 'ca', 'cs...</td>\n",
              "      <td>4931.0</td>\n",
              "      <td>1164</td>\n",
              "      <td>['children', 'creativity', 'culture', 'dance',...</td>\n",
              "      <td>{865: 'Bring on the learning revolution!', 173...</td>\n",
              "      <td>https://www.ted.com/talks/sir_ken_robinson_do_...</td>\n",
              "      <td>Sir Ken Robinson makes an entertaining and pro...</td>\n",
              "      <td>Good morning. How are you? (Audience) Good. It...</td>\n",
              "    </tr>\n",
              "  </tbody>\n",
              "</table>\n",
              "</div>"
            ],
            "text/plain": [
              "   talk_id  ...                                         transcript\n",
              "0        1  ...  Thank you so much, Chris. And it's truly a gre...\n",
              "1       92  ...  About 10 years ago, I took on the task to teac...\n",
              "2        7  ...  (Music: \"The Sound of Silence,\" Simon & Garfun...\n",
              "3       53  ...  If you're here today — and I'm very happy that...\n",
              "4       66  ...  Good morning. How are you? (Audience) Good. It...\n",
              "\n",
              "[5 rows x 19 columns]"
            ]
          },
          "metadata": {},
          "execution_count": 285
        }
      ]
    },
    {
      "cell_type": "code",
      "metadata": {
        "colab": {
          "base_uri": "https://localhost:8080/"
        },
        "id": "m8QjWbmDPdOj",
        "outputId": "655e2011-c428-4cb6-c96d-713ba36c7185"
      },
      "source": [
        "Ted_df.info()"
      ],
      "execution_count": 286,
      "outputs": [
        {
          "output_type": "stream",
          "name": "stdout",
          "text": [
            "<class 'pandas.core.frame.DataFrame'>\n",
            "RangeIndex: 4005 entries, 0 to 4004\n",
            "Data columns (total 19 columns):\n",
            " #   Column          Non-Null Count  Dtype  \n",
            "---  ------          --------------  -----  \n",
            " 0   talk_id         4005 non-null   int64  \n",
            " 1   title           4005 non-null   object \n",
            " 2   speaker_1       4005 non-null   object \n",
            " 3   all_speakers    4001 non-null   object \n",
            " 4   occupations     3483 non-null   object \n",
            " 5   about_speakers  3502 non-null   object \n",
            " 6   views           4005 non-null   int64  \n",
            " 7   recorded_date   4004 non-null   object \n",
            " 8   published_date  4005 non-null   object \n",
            " 9   event           4005 non-null   object \n",
            " 10  native_lang     4005 non-null   object \n",
            " 11  available_lang  4005 non-null   object \n",
            " 12  comments        3350 non-null   float64\n",
            " 13  duration        4005 non-null   int64  \n",
            " 14  topics          4005 non-null   object \n",
            " 15  related_talks   4005 non-null   object \n",
            " 16  url             4005 non-null   object \n",
            " 17  description     4005 non-null   object \n",
            " 18  transcript      4005 non-null   object \n",
            "dtypes: float64(1), int64(3), object(15)\n",
            "memory usage: 594.6+ KB\n"
          ]
        }
      ]
    },
    {
      "cell_type": "markdown",
      "metadata": {
        "id": "iVaXM7UhPqHT"
      },
      "source": [
        "* The Dataset consist of total 19 features and 4005 entries with some features consisting of Null Values\n",
        "\n",
        "* Out of these 19 columns only 4 are Numeric and rest are either categorical or textual."
      ]
    },
    {
      "cell_type": "code",
      "metadata": {
        "colab": {
          "base_uri": "https://localhost:8080/"
        },
        "id": "8uK7cAmFTKiB",
        "outputId": "390093f6-613d-4a91-fa17-d66f80771d95"
      },
      "source": [
        "# Checking if any Duplicate values are present in the Dataset\n",
        "Ted_df.duplicated().sum()"
      ],
      "execution_count": 287,
      "outputs": [
        {
          "output_type": "execute_result",
          "data": {
            "text/plain": [
              "0"
            ]
          },
          "metadata": {},
          "execution_count": 287
        }
      ]
    },
    {
      "cell_type": "code",
      "metadata": {
        "colab": {
          "base_uri": "https://localhost:8080/",
          "height": 563
        },
        "id": "jsXOiNEKPkl_",
        "outputId": "79e75b88-c7f6-4b28-fc44-955f623d43ed"
      },
      "source": [
        "Ted_df.describe(include = 'all')"
      ],
      "execution_count": 288,
      "outputs": [
        {
          "output_type": "execute_result",
          "data": {
            "text/html": [
              "<div>\n",
              "<style scoped>\n",
              "    .dataframe tbody tr th:only-of-type {\n",
              "        vertical-align: middle;\n",
              "    }\n",
              "\n",
              "    .dataframe tbody tr th {\n",
              "        vertical-align: top;\n",
              "    }\n",
              "\n",
              "    .dataframe thead th {\n",
              "        text-align: right;\n",
              "    }\n",
              "</style>\n",
              "<table border=\"1\" class=\"dataframe\">\n",
              "  <thead>\n",
              "    <tr style=\"text-align: right;\">\n",
              "      <th></th>\n",
              "      <th>talk_id</th>\n",
              "      <th>title</th>\n",
              "      <th>speaker_1</th>\n",
              "      <th>all_speakers</th>\n",
              "      <th>occupations</th>\n",
              "      <th>about_speakers</th>\n",
              "      <th>views</th>\n",
              "      <th>recorded_date</th>\n",
              "      <th>published_date</th>\n",
              "      <th>event</th>\n",
              "      <th>native_lang</th>\n",
              "      <th>available_lang</th>\n",
              "      <th>comments</th>\n",
              "      <th>duration</th>\n",
              "      <th>topics</th>\n",
              "      <th>related_talks</th>\n",
              "      <th>url</th>\n",
              "      <th>description</th>\n",
              "      <th>transcript</th>\n",
              "    </tr>\n",
              "  </thead>\n",
              "  <tbody>\n",
              "    <tr>\n",
              "      <th>count</th>\n",
              "      <td>4005.000000</td>\n",
              "      <td>4005</td>\n",
              "      <td>4005</td>\n",
              "      <td>4001</td>\n",
              "      <td>3483</td>\n",
              "      <td>3502</td>\n",
              "      <td>4.005000e+03</td>\n",
              "      <td>4004</td>\n",
              "      <td>4005</td>\n",
              "      <td>4005</td>\n",
              "      <td>4005</td>\n",
              "      <td>4005</td>\n",
              "      <td>3350.000000</td>\n",
              "      <td>4005.000000</td>\n",
              "      <td>4005</td>\n",
              "      <td>4005</td>\n",
              "      <td>4005</td>\n",
              "      <td>4005</td>\n",
              "      <td>4005</td>\n",
              "    </tr>\n",
              "    <tr>\n",
              "      <th>unique</th>\n",
              "      <td>NaN</td>\n",
              "      <td>4005</td>\n",
              "      <td>3274</td>\n",
              "      <td>3306</td>\n",
              "      <td>2049</td>\n",
              "      <td>2977</td>\n",
              "      <td>NaN</td>\n",
              "      <td>1334</td>\n",
              "      <td>2962</td>\n",
              "      <td>459</td>\n",
              "      <td>12</td>\n",
              "      <td>3902</td>\n",
              "      <td>NaN</td>\n",
              "      <td>NaN</td>\n",
              "      <td>3977</td>\n",
              "      <td>4005</td>\n",
              "      <td>4005</td>\n",
              "      <td>4005</td>\n",
              "      <td>4005</td>\n",
              "    </tr>\n",
              "    <tr>\n",
              "      <th>top</th>\n",
              "      <td>NaN</td>\n",
              "      <td>The awful logic of land mines -- and an app th...</td>\n",
              "      <td>Alex Gendler</td>\n",
              "      <td>{0: 'Alex Gendler'}</td>\n",
              "      <td>{0: ['writer']}</td>\n",
              "      <td>{0: 'Alex Rosenthal takes everyday experiences...</td>\n",
              "      <td>NaN</td>\n",
              "      <td>2017-04-24</td>\n",
              "      <td>2017-09-07</td>\n",
              "      <td>TED-Ed</td>\n",
              "      <td>en</td>\n",
              "      <td>['en']</td>\n",
              "      <td>NaN</td>\n",
              "      <td>NaN</td>\n",
              "      <td>['TED-Ed', 'math']</td>\n",
              "      <td>{319: 'The next 5,000 days of the web', 118: '...</td>\n",
              "      <td>https://www.ted.com/talks/paul_hessburg_why_wi...</td>\n",
              "      <td>Local politics -- schools, zoning, council ele...</td>\n",
              "      <td>In the mid-'90s, the CDC and Kaiser Permanente...</td>\n",
              "    </tr>\n",
              "    <tr>\n",
              "      <th>freq</th>\n",
              "      <td>NaN</td>\n",
              "      <td>1</td>\n",
              "      <td>34</td>\n",
              "      <td>34</td>\n",
              "      <td>53</td>\n",
              "      <td>10</td>\n",
              "      <td>NaN</td>\n",
              "      <td>97</td>\n",
              "      <td>27</td>\n",
              "      <td>556</td>\n",
              "      <td>3957</td>\n",
              "      <td>24</td>\n",
              "      <td>NaN</td>\n",
              "      <td>NaN</td>\n",
              "      <td>8</td>\n",
              "      <td>1</td>\n",
              "      <td>1</td>\n",
              "      <td>1</td>\n",
              "      <td>1</td>\n",
              "    </tr>\n",
              "    <tr>\n",
              "      <th>mean</th>\n",
              "      <td>12432.538327</td>\n",
              "      <td>NaN</td>\n",
              "      <td>NaN</td>\n",
              "      <td>NaN</td>\n",
              "      <td>NaN</td>\n",
              "      <td>NaN</td>\n",
              "      <td>2.148006e+06</td>\n",
              "      <td>NaN</td>\n",
              "      <td>NaN</td>\n",
              "      <td>NaN</td>\n",
              "      <td>NaN</td>\n",
              "      <td>NaN</td>\n",
              "      <td>161.997015</td>\n",
              "      <td>724.011236</td>\n",
              "      <td>NaN</td>\n",
              "      <td>NaN</td>\n",
              "      <td>NaN</td>\n",
              "      <td>NaN</td>\n",
              "      <td>NaN</td>\n",
              "    </tr>\n",
              "    <tr>\n",
              "      <th>std</th>\n",
              "      <td>17447.576262</td>\n",
              "      <td>NaN</td>\n",
              "      <td>NaN</td>\n",
              "      <td>NaN</td>\n",
              "      <td>NaN</td>\n",
              "      <td>NaN</td>\n",
              "      <td>3.451226e+06</td>\n",
              "      <td>NaN</td>\n",
              "      <td>NaN</td>\n",
              "      <td>NaN</td>\n",
              "      <td>NaN</td>\n",
              "      <td>NaN</td>\n",
              "      <td>268.838922</td>\n",
              "      <td>361.775462</td>\n",
              "      <td>NaN</td>\n",
              "      <td>NaN</td>\n",
              "      <td>NaN</td>\n",
              "      <td>NaN</td>\n",
              "      <td>NaN</td>\n",
              "    </tr>\n",
              "    <tr>\n",
              "      <th>min</th>\n",
              "      <td>1.000000</td>\n",
              "      <td>NaN</td>\n",
              "      <td>NaN</td>\n",
              "      <td>NaN</td>\n",
              "      <td>NaN</td>\n",
              "      <td>NaN</td>\n",
              "      <td>0.000000e+00</td>\n",
              "      <td>NaN</td>\n",
              "      <td>NaN</td>\n",
              "      <td>NaN</td>\n",
              "      <td>NaN</td>\n",
              "      <td>NaN</td>\n",
              "      <td>0.000000</td>\n",
              "      <td>60.000000</td>\n",
              "      <td>NaN</td>\n",
              "      <td>NaN</td>\n",
              "      <td>NaN</td>\n",
              "      <td>NaN</td>\n",
              "      <td>NaN</td>\n",
              "    </tr>\n",
              "    <tr>\n",
              "      <th>25%</th>\n",
              "      <td>1252.000000</td>\n",
              "      <td>NaN</td>\n",
              "      <td>NaN</td>\n",
              "      <td>NaN</td>\n",
              "      <td>NaN</td>\n",
              "      <td>NaN</td>\n",
              "      <td>8.820690e+05</td>\n",
              "      <td>NaN</td>\n",
              "      <td>NaN</td>\n",
              "      <td>NaN</td>\n",
              "      <td>NaN</td>\n",
              "      <td>NaN</td>\n",
              "      <td>38.000000</td>\n",
              "      <td>393.000000</td>\n",
              "      <td>NaN</td>\n",
              "      <td>NaN</td>\n",
              "      <td>NaN</td>\n",
              "      <td>NaN</td>\n",
              "      <td>NaN</td>\n",
              "    </tr>\n",
              "    <tr>\n",
              "      <th>50%</th>\n",
              "      <td>2333.000000</td>\n",
              "      <td>NaN</td>\n",
              "      <td>NaN</td>\n",
              "      <td>NaN</td>\n",
              "      <td>NaN</td>\n",
              "      <td>NaN</td>\n",
              "      <td>1.375508e+06</td>\n",
              "      <td>NaN</td>\n",
              "      <td>NaN</td>\n",
              "      <td>NaN</td>\n",
              "      <td>NaN</td>\n",
              "      <td>NaN</td>\n",
              "      <td>89.000000</td>\n",
              "      <td>738.000000</td>\n",
              "      <td>NaN</td>\n",
              "      <td>NaN</td>\n",
              "      <td>NaN</td>\n",
              "      <td>NaN</td>\n",
              "      <td>NaN</td>\n",
              "    </tr>\n",
              "    <tr>\n",
              "      <th>75%</th>\n",
              "      <td>23777.000000</td>\n",
              "      <td>NaN</td>\n",
              "      <td>NaN</td>\n",
              "      <td>NaN</td>\n",
              "      <td>NaN</td>\n",
              "      <td>NaN</td>\n",
              "      <td>2.133110e+06</td>\n",
              "      <td>NaN</td>\n",
              "      <td>NaN</td>\n",
              "      <td>NaN</td>\n",
              "      <td>NaN</td>\n",
              "      <td>NaN</td>\n",
              "      <td>188.000000</td>\n",
              "      <td>974.000000</td>\n",
              "      <td>NaN</td>\n",
              "      <td>NaN</td>\n",
              "      <td>NaN</td>\n",
              "      <td>NaN</td>\n",
              "      <td>NaN</td>\n",
              "    </tr>\n",
              "    <tr>\n",
              "      <th>max</th>\n",
              "      <td>62794.000000</td>\n",
              "      <td>NaN</td>\n",
              "      <td>NaN</td>\n",
              "      <td>NaN</td>\n",
              "      <td>NaN</td>\n",
              "      <td>NaN</td>\n",
              "      <td>6.505195e+07</td>\n",
              "      <td>NaN</td>\n",
              "      <td>NaN</td>\n",
              "      <td>NaN</td>\n",
              "      <td>NaN</td>\n",
              "      <td>NaN</td>\n",
              "      <td>6449.000000</td>\n",
              "      <td>3922.000000</td>\n",
              "      <td>NaN</td>\n",
              "      <td>NaN</td>\n",
              "      <td>NaN</td>\n",
              "      <td>NaN</td>\n",
              "      <td>NaN</td>\n",
              "    </tr>\n",
              "  </tbody>\n",
              "</table>\n",
              "</div>"
            ],
            "text/plain": [
              "             talk_id  ...                                         transcript\n",
              "count    4005.000000  ...                                               4005\n",
              "unique           NaN  ...                                               4005\n",
              "top              NaN  ...  In the mid-'90s, the CDC and Kaiser Permanente...\n",
              "freq             NaN  ...                                                  1\n",
              "mean    12432.538327  ...                                                NaN\n",
              "std     17447.576262  ...                                                NaN\n",
              "min         1.000000  ...                                                NaN\n",
              "25%      1252.000000  ...                                                NaN\n",
              "50%      2333.000000  ...                                                NaN\n",
              "75%     23777.000000  ...                                                NaN\n",
              "max     62794.000000  ...                                                NaN\n",
              "\n",
              "[11 rows x 19 columns]"
            ]
          },
          "metadata": {},
          "execution_count": 288
        }
      ]
    },
    {
      "cell_type": "markdown",
      "metadata": {
        "id": "4EjZIQfHTN-d"
      },
      "source": [
        "###Handling the Null values in the Dataset"
      ]
    },
    {
      "cell_type": "code",
      "metadata": {
        "colab": {
          "base_uri": "https://localhost:8080/"
        },
        "id": "YNH2tmueSsJy",
        "outputId": "1a77c651-6458-4e5e-8701-b95b138d48ab"
      },
      "source": [
        "Ted_df.isna().sum()"
      ],
      "execution_count": 289,
      "outputs": [
        {
          "output_type": "execute_result",
          "data": {
            "text/plain": [
              "talk_id             0\n",
              "title               0\n",
              "speaker_1           0\n",
              "all_speakers        4\n",
              "occupations       522\n",
              "about_speakers    503\n",
              "views               0\n",
              "recorded_date       1\n",
              "published_date      0\n",
              "event               0\n",
              "native_lang         0\n",
              "available_lang      0\n",
              "comments          655\n",
              "duration            0\n",
              "topics              0\n",
              "related_talks       0\n",
              "url                 0\n",
              "description         0\n",
              "transcript          0\n",
              "dtype: int64"
            ]
          },
          "metadata": {},
          "execution_count": 289
        }
      ]
    },
    {
      "cell_type": "code",
      "metadata": {
        "colab": {
          "base_uri": "https://localhost:8080/",
          "height": 35
        },
        "id": "TrNYICcRTWE6",
        "outputId": "e5d7e2ea-8eae-45d9-deed-4fcb6ee57d6c"
      },
      "source": [
        "Ted_df['about_speakers'][0]    "
      ],
      "execution_count": 290,
      "outputs": [
        {
          "output_type": "execute_result",
          "data": {
            "application/vnd.google.colaboratory.intrinsic+json": {
              "type": "string"
            },
            "text/plain": [
              "\"{0: 'Nobel Laureate Al Gore focused the world’s attention on the global climate crisis. Now he’s showing us how we’re moving towards real solutions.\\\\r\\\\n'}\""
            ]
          },
          "metadata": {},
          "execution_count": 290
        }
      ]
    },
    {
      "cell_type": "markdown",
      "metadata": {
        "id": "m2yTzA5BVuT7"
      },
      "source": [
        "As the 'about_speakers column gives the description about the speaker which may not be helpful in our journey"
      ]
    },
    {
      "cell_type": "code",
      "metadata": {
        "id": "UNgiA7Jisx5p"
      },
      "source": [
        "Ted_df.drop('about_speakers',axis=1,inplace=True)"
      ],
      "execution_count": 291,
      "outputs": []
    },
    {
      "cell_type": "code",
      "metadata": {
        "id": "cWcTQNmDU40A"
      },
      "source": [
        "Ted_df['recorded_date'].fillna('',inplace=True)  \n",
        "Ted_df['comments'].fillna(Ted_df['comments'].mean(),inplace=True)\n",
        "Ted_df['all_speakers'].fillna('',inplace= True)"
      ],
      "execution_count": 292,
      "outputs": []
    },
    {
      "cell_type": "code",
      "metadata": {
        "id": "CWEdvEIGVjwX"
      },
      "source": [
        "# Setting the Null values in Occupation column to Others Category\n",
        "Ted_df['occupations'].fillna(str({0:['Other']}),inplace = True)"
      ],
      "execution_count": 293,
      "outputs": []
    },
    {
      "cell_type": "code",
      "metadata": {
        "colab": {
          "base_uri": "https://localhost:8080/"
        },
        "id": "OhJkFzR_TI5Q",
        "outputId": "99529c6d-712d-4d63-d118-db41c04882de"
      },
      "source": [
        "Ted_df.isna().sum()"
      ],
      "execution_count": 294,
      "outputs": [
        {
          "output_type": "execute_result",
          "data": {
            "text/plain": [
              "talk_id           0\n",
              "title             0\n",
              "speaker_1         0\n",
              "all_speakers      0\n",
              "occupations       0\n",
              "views             0\n",
              "recorded_date     0\n",
              "published_date    0\n",
              "event             0\n",
              "native_lang       0\n",
              "available_lang    0\n",
              "comments          0\n",
              "duration          0\n",
              "topics            0\n",
              "related_talks     0\n",
              "url               0\n",
              "description       0\n",
              "transcript        0\n",
              "dtype: int64"
            ]
          },
          "metadata": {},
          "execution_count": 294
        }
      ]
    },
    {
      "cell_type": "markdown",
      "metadata": {
        "id": "zZ7zbcuNT30r"
      },
      "source": [
        "###Exploring the Published Date Column :"
      ]
    },
    {
      "cell_type": "code",
      "metadata": {
        "id": "zv6u0maaTrs9"
      },
      "source": [
        "# Converting Published date column to datetime type\n",
        "Ted_df['published_date'] = Ted_df['published_date'].apply((lambda x: datetime.strptime(x,\"%Y-%m-%d\")))"
      ],
      "execution_count": 295,
      "outputs": []
    },
    {
      "cell_type": "code",
      "metadata": {
        "id": "ojeKO8MyVlv4"
      },
      "source": [
        "#extracting release day, month and year from the published date column\n",
        "Ted_df['release_day']   = Ted_df['published_date'].apply(lambda x: x.weekday())\n",
        "Ted_df['release_month'] = Ted_df['published_date'].apply(lambda x: x.month)\n",
        "Ted_df['release_year']  = Ted_df['published_date'].apply(lambda x: x.year)"
      ],
      "execution_count": 296,
      "outputs": []
    },
    {
      "cell_type": "code",
      "metadata": {
        "colab": {
          "base_uri": "https://localhost:8080/",
          "height": 1000
        },
        "id": "m0VmuzKgWQ4q",
        "outputId": "f6b19ada-8f30-43e5-abef-715b103ec51a"
      },
      "source": [
        "Ted_df"
      ],
      "execution_count": 297,
      "outputs": [
        {
          "output_type": "execute_result",
          "data": {
            "text/html": [
              "<div>\n",
              "<style scoped>\n",
              "    .dataframe tbody tr th:only-of-type {\n",
              "        vertical-align: middle;\n",
              "    }\n",
              "\n",
              "    .dataframe tbody tr th {\n",
              "        vertical-align: top;\n",
              "    }\n",
              "\n",
              "    .dataframe thead th {\n",
              "        text-align: right;\n",
              "    }\n",
              "</style>\n",
              "<table border=\"1\" class=\"dataframe\">\n",
              "  <thead>\n",
              "    <tr style=\"text-align: right;\">\n",
              "      <th></th>\n",
              "      <th>talk_id</th>\n",
              "      <th>title</th>\n",
              "      <th>speaker_1</th>\n",
              "      <th>all_speakers</th>\n",
              "      <th>occupations</th>\n",
              "      <th>views</th>\n",
              "      <th>recorded_date</th>\n",
              "      <th>published_date</th>\n",
              "      <th>event</th>\n",
              "      <th>native_lang</th>\n",
              "      <th>available_lang</th>\n",
              "      <th>comments</th>\n",
              "      <th>duration</th>\n",
              "      <th>topics</th>\n",
              "      <th>related_talks</th>\n",
              "      <th>url</th>\n",
              "      <th>description</th>\n",
              "      <th>transcript</th>\n",
              "      <th>release_day</th>\n",
              "      <th>release_month</th>\n",
              "      <th>release_year</th>\n",
              "    </tr>\n",
              "  </thead>\n",
              "  <tbody>\n",
              "    <tr>\n",
              "      <th>0</th>\n",
              "      <td>1</td>\n",
              "      <td>Averting the climate crisis</td>\n",
              "      <td>Al Gore</td>\n",
              "      <td>{0: 'Al Gore'}</td>\n",
              "      <td>{0: ['climate advocate']}</td>\n",
              "      <td>3523392</td>\n",
              "      <td>2006-02-25</td>\n",
              "      <td>2006-06-27</td>\n",
              "      <td>TED2006</td>\n",
              "      <td>en</td>\n",
              "      <td>['ar', 'bg', 'cs', 'de', 'el', 'en', 'es', 'fa...</td>\n",
              "      <td>272.000000</td>\n",
              "      <td>977</td>\n",
              "      <td>['alternative energy', 'cars', 'climate change...</td>\n",
              "      <td>{243: 'New thinking on the climate crisis', 54...</td>\n",
              "      <td>https://www.ted.com/talks/al_gore_averting_the...</td>\n",
              "      <td>With the same humor and humanity he exuded in ...</td>\n",
              "      <td>Thank you so much, Chris. And it's truly a gre...</td>\n",
              "      <td>1</td>\n",
              "      <td>6</td>\n",
              "      <td>2006</td>\n",
              "    </tr>\n",
              "    <tr>\n",
              "      <th>1</th>\n",
              "      <td>92</td>\n",
              "      <td>The best stats you've ever seen</td>\n",
              "      <td>Hans Rosling</td>\n",
              "      <td>{0: 'Hans Rosling'}</td>\n",
              "      <td>{0: ['global health expert; data visionary']}</td>\n",
              "      <td>14501685</td>\n",
              "      <td>2006-02-22</td>\n",
              "      <td>2006-06-27</td>\n",
              "      <td>TED2006</td>\n",
              "      <td>en</td>\n",
              "      <td>['ar', 'az', 'bg', 'bn', 'bs', 'cs', 'da', 'de...</td>\n",
              "      <td>628.000000</td>\n",
              "      <td>1190</td>\n",
              "      <td>['Africa', 'Asia', 'Google', 'demo', 'economic...</td>\n",
              "      <td>{2056: \"Own your body's data\", 2296: 'A visual...</td>\n",
              "      <td>https://www.ted.com/talks/hans_rosling_the_bes...</td>\n",
              "      <td>You've never seen data presented like this. Wi...</td>\n",
              "      <td>About 10 years ago, I took on the task to teac...</td>\n",
              "      <td>1</td>\n",
              "      <td>6</td>\n",
              "      <td>2006</td>\n",
              "    </tr>\n",
              "    <tr>\n",
              "      <th>2</th>\n",
              "      <td>7</td>\n",
              "      <td>Simplicity sells</td>\n",
              "      <td>David Pogue</td>\n",
              "      <td>{0: 'David Pogue'}</td>\n",
              "      <td>{0: ['technology columnist']}</td>\n",
              "      <td>1920832</td>\n",
              "      <td>2006-02-24</td>\n",
              "      <td>2006-06-27</td>\n",
              "      <td>TED2006</td>\n",
              "      <td>en</td>\n",
              "      <td>['ar', 'bg', 'de', 'el', 'en', 'es', 'fa', 'fr...</td>\n",
              "      <td>124.000000</td>\n",
              "      <td>1286</td>\n",
              "      <td>['computers', 'entertainment', 'interface desi...</td>\n",
              "      <td>{1725: '10 top time-saving tech tips', 2274: '...</td>\n",
              "      <td>https://www.ted.com/talks/david_pogue_simplici...</td>\n",
              "      <td>New York Times columnist David Pogue takes aim...</td>\n",
              "      <td>(Music: \"The Sound of Silence,\" Simon &amp; Garfun...</td>\n",
              "      <td>1</td>\n",
              "      <td>6</td>\n",
              "      <td>2006</td>\n",
              "    </tr>\n",
              "    <tr>\n",
              "      <th>3</th>\n",
              "      <td>53</td>\n",
              "      <td>Greening the ghetto</td>\n",
              "      <td>Majora Carter</td>\n",
              "      <td>{0: 'Majora Carter'}</td>\n",
              "      <td>{0: ['activist for environmental justice']}</td>\n",
              "      <td>2664069</td>\n",
              "      <td>2006-02-26</td>\n",
              "      <td>2006-06-27</td>\n",
              "      <td>TED2006</td>\n",
              "      <td>en</td>\n",
              "      <td>['ar', 'bg', 'bn', 'ca', 'cs', 'de', 'en', 'es...</td>\n",
              "      <td>219.000000</td>\n",
              "      <td>1116</td>\n",
              "      <td>['MacArthur grant', 'activism', 'business', 'c...</td>\n",
              "      <td>{1041: '3 stories of local eco-entrepreneurshi...</td>\n",
              "      <td>https://www.ted.com/talks/majora_carter_greeni...</td>\n",
              "      <td>In an emotionally charged talk, MacArthur-winn...</td>\n",
              "      <td>If you're here today — and I'm very happy that...</td>\n",
              "      <td>1</td>\n",
              "      <td>6</td>\n",
              "      <td>2006</td>\n",
              "    </tr>\n",
              "    <tr>\n",
              "      <th>4</th>\n",
              "      <td>66</td>\n",
              "      <td>Do schools kill creativity?</td>\n",
              "      <td>Sir Ken Robinson</td>\n",
              "      <td>{0: 'Sir Ken Robinson'}</td>\n",
              "      <td>{0: ['author', 'educator']}</td>\n",
              "      <td>65051954</td>\n",
              "      <td>2006-02-25</td>\n",
              "      <td>2006-06-27</td>\n",
              "      <td>TED2006</td>\n",
              "      <td>en</td>\n",
              "      <td>['af', 'ar', 'az', 'be', 'bg', 'bn', 'ca', 'cs...</td>\n",
              "      <td>4931.000000</td>\n",
              "      <td>1164</td>\n",
              "      <td>['children', 'creativity', 'culture', 'dance',...</td>\n",
              "      <td>{865: 'Bring on the learning revolution!', 173...</td>\n",
              "      <td>https://www.ted.com/talks/sir_ken_robinson_do_...</td>\n",
              "      <td>Sir Ken Robinson makes an entertaining and pro...</td>\n",
              "      <td>Good morning. How are you? (Audience) Good. It...</td>\n",
              "      <td>1</td>\n",
              "      <td>6</td>\n",
              "      <td>2006</td>\n",
              "    </tr>\n",
              "    <tr>\n",
              "      <th>...</th>\n",
              "      <td>...</td>\n",
              "      <td>...</td>\n",
              "      <td>...</td>\n",
              "      <td>...</td>\n",
              "      <td>...</td>\n",
              "      <td>...</td>\n",
              "      <td>...</td>\n",
              "      <td>...</td>\n",
              "      <td>...</td>\n",
              "      <td>...</td>\n",
              "      <td>...</td>\n",
              "      <td>...</td>\n",
              "      <td>...</td>\n",
              "      <td>...</td>\n",
              "      <td>...</td>\n",
              "      <td>...</td>\n",
              "      <td>...</td>\n",
              "      <td>...</td>\n",
              "      <td>...</td>\n",
              "      <td>...</td>\n",
              "      <td>...</td>\n",
              "    </tr>\n",
              "    <tr>\n",
              "      <th>4000</th>\n",
              "      <td>62678</td>\n",
              "      <td>Crisis support for the world, one text away</td>\n",
              "      <td>Nancy Lublin</td>\n",
              "      <td>{0: 'Nancy Lublin'}</td>\n",
              "      <td>{0: ['health activist']}</td>\n",
              "      <td>502934</td>\n",
              "      <td>2020-04-22</td>\n",
              "      <td>2020-04-27</td>\n",
              "      <td>TED2020: The Prequel</td>\n",
              "      <td>en</td>\n",
              "      <td>['en']</td>\n",
              "      <td>6.000000</td>\n",
              "      <td>690</td>\n",
              "      <td>['activism', 'data', 'technology', 'mental hea...</td>\n",
              "      <td>{2362: 'How data from a crisis text line is sa...</td>\n",
              "      <td>https://www.ted.com/talks/nancy_lublin_crisis_...</td>\n",
              "      <td>What if we could help people in crisis anytime...</td>\n",
              "      <td>\"I'm 14, and I want to go home.\" \"My name is B...</td>\n",
              "      <td>0</td>\n",
              "      <td>4</td>\n",
              "      <td>2020</td>\n",
              "    </tr>\n",
              "    <tr>\n",
              "      <th>4001</th>\n",
              "      <td>62782</td>\n",
              "      <td>The dark history of IQ tests</td>\n",
              "      <td>Stefan C Dombrowski</td>\n",
              "      <td>{0: 'Stefan C Dombrowski'}</td>\n",
              "      <td>{0: ['Other']}</td>\n",
              "      <td>307187</td>\n",
              "      <td>2020-04-27</td>\n",
              "      <td>2020-04-27</td>\n",
              "      <td>TED-Ed</td>\n",
              "      <td>en</td>\n",
              "      <td>['en', 'es', 'my', 'pt-br']</td>\n",
              "      <td>161.997015</td>\n",
              "      <td>346</td>\n",
              "      <td>['TED-Ed', 'education', 'history', 'animation'...</td>\n",
              "      <td>{35386: 'How does the Rorschach inkblot test w...</td>\n",
              "      <td>https://www.ted.com/talks/stefan_c_dombrowski_...</td>\n",
              "      <td>In 1905, psychologists Alfred Binet and Théodo...</td>\n",
              "      <td>In 1905, psychologists Alfred Binet and Théodo...</td>\n",
              "      <td>0</td>\n",
              "      <td>4</td>\n",
              "      <td>2020</td>\n",
              "    </tr>\n",
              "    <tr>\n",
              "      <th>4002</th>\n",
              "      <td>62263</td>\n",
              "      <td>How \"policing for profit\" undermines your rights</td>\n",
              "      <td>Dick M. Carpenter II</td>\n",
              "      <td>{0: 'Dick M. Carpenter II'}</td>\n",
              "      <td>{0: ['law researcher']}</td>\n",
              "      <td>464414</td>\n",
              "      <td>2019-06-22</td>\n",
              "      <td>2020-04-28</td>\n",
              "      <td>TEDxMileHigh</td>\n",
              "      <td>en</td>\n",
              "      <td>['en']</td>\n",
              "      <td>9.000000</td>\n",
              "      <td>774</td>\n",
              "      <td>['society', 'law', 'policy', 'justice system',...</td>\n",
              "      <td>{2406: 'I love being a police officer, but we ...</td>\n",
              "      <td>https://www.ted.com/talks/dick_m_carpenter_ii_...</td>\n",
              "      <td>Many countries have an active, centuries-old l...</td>\n",
              "      <td>Picture yourself driving down the road tomorro...</td>\n",
              "      <td>1</td>\n",
              "      <td>4</td>\n",
              "      <td>2020</td>\n",
              "    </tr>\n",
              "    <tr>\n",
              "      <th>4003</th>\n",
              "      <td>62784</td>\n",
              "      <td>The electrifying speeches of Sojourner Truth</td>\n",
              "      <td>Daina Ramey Berry</td>\n",
              "      <td>{0: 'Daina Ramey Berry'}</td>\n",
              "      <td>{0: ['Other']}</td>\n",
              "      <td>56582</td>\n",
              "      <td>2020-04-28</td>\n",
              "      <td>2020-04-30</td>\n",
              "      <td>TED-Ed</td>\n",
              "      <td>en</td>\n",
              "      <td>['en']</td>\n",
              "      <td>161.997015</td>\n",
              "      <td>257</td>\n",
              "      <td>['TED-Ed', 'education', 'animation', 'United S...</td>\n",
              "      <td>{20973: 'The breathtaking courage of Harriet T...</td>\n",
              "      <td>https://www.ted.com/talks/daina_ramey_berry_th...</td>\n",
              "      <td>Isabella Baumfree was born into slavery in lat...</td>\n",
              "      <td>In early 1828, Sojourner Truth approached the ...</td>\n",
              "      <td>3</td>\n",
              "      <td>4</td>\n",
              "      <td>2020</td>\n",
              "    </tr>\n",
              "    <tr>\n",
              "      <th>4004</th>\n",
              "      <td>62794</td>\n",
              "      <td>The most important anus in the ocean</td>\n",
              "      <td>Cella Wright</td>\n",
              "      <td>{0: 'Cella Wright'}</td>\n",
              "      <td>{0: ['Other']}</td>\n",
              "      <td>0</td>\n",
              "      <td>2020-04-30</td>\n",
              "      <td>2020-04-30</td>\n",
              "      <td>TED-Ed</td>\n",
              "      <td>en</td>\n",
              "      <td>['en']</td>\n",
              "      <td>161.997015</td>\n",
              "      <td>281</td>\n",
              "      <td>['animals', 'TED-Ed', 'animation', 'oceans', '...</td>\n",
              "      <td>{62347: 'The bug that poops candy', 29159: 'In...</td>\n",
              "      <td>https://www.ted.com/talks/cella_wright_the_mos...</td>\n",
              "      <td>Is it a fuzzy sock? An overripe banana? A mold...</td>\n",
              "      <td>Can you guess what you’re looking at? Is it a ...</td>\n",
              "      <td>3</td>\n",
              "      <td>4</td>\n",
              "      <td>2020</td>\n",
              "    </tr>\n",
              "  </tbody>\n",
              "</table>\n",
              "<p>4005 rows × 21 columns</p>\n",
              "</div>"
            ],
            "text/plain": [
              "      talk_id  ... release_year\n",
              "0           1  ...         2006\n",
              "1          92  ...         2006\n",
              "2           7  ...         2006\n",
              "3          53  ...         2006\n",
              "4          66  ...         2006\n",
              "...       ...  ...          ...\n",
              "4000    62678  ...         2020\n",
              "4001    62782  ...         2020\n",
              "4002    62263  ...         2020\n",
              "4003    62784  ...         2020\n",
              "4004    62794  ...         2020\n",
              "\n",
              "[4005 rows x 21 columns]"
            ]
          },
          "metadata": {},
          "execution_count": 297
        }
      ]
    },
    {
      "cell_type": "code",
      "metadata": {
        "id": "rc2t7DMyWH9T"
      },
      "source": [
        "#encoding of release_day column with corresponding week day name\n",
        "week_day={0:'Monday',1:'Tuesday',2:'Wednesday',3:'Thursday',4:'Friday',5:'Saturday',6:'Sunday'}\n",
        "Ted_df['release_day']=Ted_df['release_day'].map(week_day)"
      ],
      "execution_count": 298,
      "outputs": []
    },
    {
      "cell_type": "code",
      "metadata": {
        "colab": {
          "base_uri": "https://localhost:8080/",
          "height": 394
        },
        "id": "m2WBxYcSbrQr",
        "outputId": "1c4a85e3-d010-408d-b9c6-84c9afd99d29"
      },
      "source": [
        "# checking the day of the week having maximum release date\n",
        "plt.figure(figsize=(10,6))\n",
        "sns.set_theme(style=\"darkgrid\")\n",
        "ax = sns.countplot(x='release_day', data=Ted_df)\n",
        "plt.xlabel('Day of the week')\n",
        "plt.ylabel('No of talks');"
      ],
      "execution_count": 299,
      "outputs": [
        {
          "output_type": "display_data",
          "data": {
            "image/png": "[encoded data removed]",
            "text/plain": [
              "<Figure size 720x432 with 1 Axes>"
            ]
          },
          "metadata": {}
        }
      ]
    },
    {
      "cell_type": "markdown",
      "metadata": {
        "id": "2gcA0HgQau9P"
      },
      "source": [
        "* Most no of talks were released on tuesday followed by thursday\n",
        "\n",
        "* As we can see on saturday and sunday very less ted talk videos were published\n"
      ]
    },
    {
      "cell_type": "code",
      "metadata": {
        "colab": {
          "base_uri": "https://localhost:8080/",
          "height": 427
        },
        "id": "zcXkqohxqFLJ",
        "outputId": "5a907590-ef3e-41e4-9c90-288be7a0f092"
      },
      "source": [
        "# release days with respect to views\n",
        "views_per_day=Ted_df.groupby('release_day')['views'].mean().sort_values(ascending=False).reset_index()\n",
        "plt.figure(figsize=(10,6))\n",
        "plt.title('Released week days having maximum views')\n",
        "sns.barplot(x='release_day',y='views',data=views_per_day)"
      ],
      "execution_count": 300,
      "outputs": [
        {
          "output_type": "execute_result",
          "data": {
            "text/plain": [
              "<matplotlib.axes._subplots.AxesSubplot at 0x7fc8c482b650>"
            ]
          },
          "metadata": {},
          "execution_count": 300
        },
        {
          "output_type": "display_data",
          "data": {
            "image/png": "[encoded data removed]",
            "text/plain": [
              "<Figure size 720x432 with 1 Axes>"
            ]
          },
          "metadata": {}
        }
      ]
    },
    {
      "cell_type": "markdown",
      "metadata": {
        "id": "VITkZvNfrexq"
      },
      "source": [
        "* Most no of views are for the videos which are released on Friday"
      ]
    },
    {
      "cell_type": "code",
      "metadata": {
        "id": "9Q-ymuP1sNC5"
      },
      "source": [
        "#encoding release_month column with month names\n",
        "month_dict={1:'Jan',2:'Feb',3:'March',4:'April',5:'May',6:'June',7:'July',8:'Aug',9:'Sep',10:'Oct',11:'Nov',12:'Dec'}\n",
        "Ted_df['release_month']=Ted_df['release_month'].map(month_dict)\n"
      ],
      "execution_count": 301,
      "outputs": []
    },
    {
      "cell_type": "code",
      "metadata": {
        "colab": {
          "base_uri": "https://localhost:8080/",
          "height": 488
        },
        "id": "hjxLbGeAsULj",
        "outputId": "8da1c255-bd91-466f-d836-e637444aa6e7"
      },
      "source": [
        "#checking months having maximum release \n",
        "plt.figure(figsize=(10,7))\n",
        "Ted_df['release_month'].value_counts().sort_values(ascending=False).plot(kind='bar')\n",
        "plt.title('Released month having maximum avg views')\n",
        "plt.xlabel('Month')\n",
        "plt.ylabel('No of talks');\n",
        "\n"
      ],
      "execution_count": 302,
      "outputs": [
        {
          "output_type": "display_data",
          "data": {
            "image/png": "[encoded data removed]",
            "text/plain": [
              "<Figure size 720x504 with 1 Axes>"
            ]
          },
          "metadata": {}
        }
      ]
    },
    {
      "cell_type": "markdown",
      "metadata": {
        "id": "pD7D5wKMvFCw"
      },
      "source": [
        "* Most no of talks were released on April followed by March and Feb."
      ]
    },
    {
      "cell_type": "code",
      "metadata": {
        "colab": {
          "base_uri": "https://localhost:8080/",
          "height": 372
        },
        "id": "yNhKLVOsvE8X",
        "outputId": "06d4cd3b-e389-4362-a81e-21f17cbe3a57"
      },
      "source": [
        "# Most popular release month by average Views\n",
        "views_per_month=Ted_df.groupby('release_month')['views'].mean().sort_values(ascending=False).reset_index()\n",
        "plt.figure(figsize=(10,5))\n",
        "plt.title('Released months having maximum average views')\n",
        "sns.barplot(x='release_month',y='views',data=views_per_month)"
      ],
      "execution_count": 303,
      "outputs": [
        {
          "output_type": "execute_result",
          "data": {
            "text/plain": [
              "<matplotlib.axes._subplots.AxesSubplot at 0x7fc8c46b4090>"
            ]
          },
          "metadata": {},
          "execution_count": 303
        },
        {
          "output_type": "display_data",
          "data": {
            "image/png": "[encoded data removed]",
            "text/plain": [
              "<Figure size 720x360 with 1 Axes>"
            ]
          },
          "metadata": {}
        }
      ]
    },
    {
      "cell_type": "markdown",
      "metadata": {
        "id": "uxS21zpCwP-s"
      },
      "source": [
        "* Talks released in March have most views followed by May."
      ]
    },
    {
      "cell_type": "code",
      "metadata": {
        "colab": {
          "base_uri": "https://localhost:8080/",
          "height": 482
        },
        "id": "zRNYgVGJwiEM",
        "outputId": "35127aed-30e4-4eb5-8bf1-2193b38da9ea"
      },
      "source": [
        "#checking years having maximum release \n",
        "plt.figure(figsize=(10,7))\n",
        "Ted_df['release_year'].value_counts().plot(kind='bar')\n",
        "plt.title('Released year having maximum avg views')\n",
        "plt.xlabel('Year')\n",
        "plt.ylabel('No of talks');"
      ],
      "execution_count": 304,
      "outputs": [
        {
          "output_type": "display_data",
          "data": {
            "image/png": "[encoded data removed]",
            "text/plain": [
              "<Figure size 720x504 with 1 Axes>"
            ]
          },
          "metadata": {}
        }
      ]
    },
    {
      "cell_type": "markdown",
      "metadata": {
        "id": "cs_Ufziewswp"
      },
      "source": [
        "* Most no of Talks were released in year 2019 "
      ]
    },
    {
      "cell_type": "code",
      "metadata": {
        "colab": {
          "base_uri": "https://localhost:8080/",
          "height": 427
        },
        "id": "Y-XMxup6xHuc",
        "outputId": "45fb5430-343f-4bcc-8e95-b71bd2bf2bb3"
      },
      "source": [
        "# Most popular release year by to average Views\n",
        "views_per_year=Ted_df.groupby('release_year')['views'].mean().sort_values(ascending=False).reset_index()\n",
        "plt.figure(figsize=(10,6))\n",
        "plt.title('Released months having maximum average views')\n",
        "sns.barplot(x='release_year',y='views',data=views_per_year)"
      ],
      "execution_count": 305,
      "outputs": [
        {
          "output_type": "execute_result",
          "data": {
            "text/plain": [
              "<matplotlib.axes._subplots.AxesSubplot at 0x7fc8c45e7e10>"
            ]
          },
          "metadata": {},
          "execution_count": 305
        },
        {
          "output_type": "display_data",
          "data": {
            "image/png": "[encoded data removed]",
            "text/plain": [
              "<Figure size 720x432 with 1 Axes>"
            ]
          },
          "metadata": {}
        }
      ]
    },
    {
      "cell_type": "markdown",
      "metadata": {
        "id": "AaTFr_2oxaip"
      },
      "source": [
        "* Most no of Talks were released in year 2019 but Talks released in the year 2006 have the maximum views."
      ]
    },
    {
      "cell_type": "code",
      "metadata": {
        "colab": {
          "base_uri": "https://localhost:8080/",
          "height": 204
        },
        "id": "NCNhG0Ifb-Po",
        "outputId": "4a651aa6-f1b0-43bd-9e9d-79651301d575"
      },
      "source": [
        "# Most viewed Ted Talks\n",
        "most_viewed=Ted_df.nlargest(5, ['views'])\n",
        "most_viewed[['speaker_1','views','title','release_year','duration']]"
      ],
      "execution_count": 306,
      "outputs": [
        {
          "output_type": "execute_result",
          "data": {
            "text/html": [
              "<div>\n",
              "<style scoped>\n",
              "    .dataframe tbody tr th:only-of-type {\n",
              "        vertical-align: middle;\n",
              "    }\n",
              "\n",
              "    .dataframe tbody tr th {\n",
              "        vertical-align: top;\n",
              "    }\n",
              "\n",
              "    .dataframe thead th {\n",
              "        text-align: right;\n",
              "    }\n",
              "</style>\n",
              "<table border=\"1\" class=\"dataframe\">\n",
              "  <thead>\n",
              "    <tr style=\"text-align: right;\">\n",
              "      <th></th>\n",
              "      <th>speaker_1</th>\n",
              "      <th>views</th>\n",
              "      <th>title</th>\n",
              "      <th>release_year</th>\n",
              "      <th>duration</th>\n",
              "    </tr>\n",
              "  </thead>\n",
              "  <tbody>\n",
              "    <tr>\n",
              "      <th>4</th>\n",
              "      <td>Sir Ken Robinson</td>\n",
              "      <td>65051954</td>\n",
              "      <td>Do schools kill creativity?</td>\n",
              "      <td>2006</td>\n",
              "      <td>1164</td>\n",
              "    </tr>\n",
              "    <tr>\n",
              "      <th>1296</th>\n",
              "      <td>Amy Cuddy</td>\n",
              "      <td>57074270</td>\n",
              "      <td>Your body language may shape who you are</td>\n",
              "      <td>2012</td>\n",
              "      <td>1262</td>\n",
              "    </tr>\n",
              "    <tr>\n",
              "      <th>2062</th>\n",
              "      <td>James Veitch</td>\n",
              "      <td>56932551</td>\n",
              "      <td>This is what happens when you reply to spam email</td>\n",
              "      <td>2016</td>\n",
              "      <td>588</td>\n",
              "    </tr>\n",
              "    <tr>\n",
              "      <th>646</th>\n",
              "      <td>Simon Sinek</td>\n",
              "      <td>49730580</td>\n",
              "      <td>How great leaders inspire action</td>\n",
              "      <td>2010</td>\n",
              "      <td>1084</td>\n",
              "    </tr>\n",
              "    <tr>\n",
              "      <th>796</th>\n",
              "      <td>Brené Brown</td>\n",
              "      <td>47544833</td>\n",
              "      <td>The power of vulnerability</td>\n",
              "      <td>2010</td>\n",
              "      <td>1219</td>\n",
              "    </tr>\n",
              "  </tbody>\n",
              "</table>\n",
              "</div>"
            ],
            "text/plain": [
              "             speaker_1     views  ... release_year  duration\n",
              "4     Sir Ken Robinson  65051954  ...         2006      1164\n",
              "1296         Amy Cuddy  57074270  ...         2012      1262\n",
              "2062      James Veitch  56932551  ...         2016       588\n",
              "646        Simon Sinek  49730580  ...         2010      1084\n",
              "796        Brené Brown  47544833  ...         2010      1219\n",
              "\n",
              "[5 rows x 5 columns]"
            ]
          },
          "metadata": {},
          "execution_count": 306
        }
      ]
    },
    {
      "cell_type": "markdown",
      "metadata": {
        "id": "myN-bXVCdeQC"
      },
      "source": [
        "* Sir Ken Robinson's 'Do schools kill creativity?' is the most viewed Talk with more than 65 million views."
      ]
    },
    {
      "cell_type": "code",
      "metadata": {
        "colab": {
          "base_uri": "https://localhost:8080/",
          "height": 514
        },
        "id": "xy_xhND0evr6",
        "outputId": "a428572b-b286-4ca0-b50c-a14946df9298"
      },
      "source": [
        "Ted_df.groupby('speaker_1')['views'].sum().nlargest(15).reset_index()"
      ],
      "execution_count": 307,
      "outputs": [
        {
          "output_type": "execute_result",
          "data": {
            "text/html": [
              "<div>\n",
              "<style scoped>\n",
              "    .dataframe tbody tr th:only-of-type {\n",
              "        vertical-align: middle;\n",
              "    }\n",
              "\n",
              "    .dataframe tbody tr th {\n",
              "        vertical-align: top;\n",
              "    }\n",
              "\n",
              "    .dataframe thead th {\n",
              "        text-align: right;\n",
              "    }\n",
              "</style>\n",
              "<table border=\"1\" class=\"dataframe\">\n",
              "  <thead>\n",
              "    <tr style=\"text-align: right;\">\n",
              "      <th></th>\n",
              "      <th>speaker_1</th>\n",
              "      <th>views</th>\n",
              "    </tr>\n",
              "  </thead>\n",
              "  <tbody>\n",
              "    <tr>\n",
              "      <th>0</th>\n",
              "      <td>Alex Gendler</td>\n",
              "      <td>117619583</td>\n",
              "    </tr>\n",
              "    <tr>\n",
              "      <th>1</th>\n",
              "      <td>Sir Ken Robinson</td>\n",
              "      <td>84380518</td>\n",
              "    </tr>\n",
              "    <tr>\n",
              "      <th>2</th>\n",
              "      <td>James Veitch</td>\n",
              "      <td>78843641</td>\n",
              "    </tr>\n",
              "    <tr>\n",
              "      <th>3</th>\n",
              "      <td>Simon Sinek</td>\n",
              "      <td>62661183</td>\n",
              "    </tr>\n",
              "    <tr>\n",
              "      <th>4</th>\n",
              "      <td>Brené Brown</td>\n",
              "      <td>61285977</td>\n",
              "    </tr>\n",
              "    <tr>\n",
              "      <th>5</th>\n",
              "      <td>Bill Gates</td>\n",
              "      <td>57107176</td>\n",
              "    </tr>\n",
              "    <tr>\n",
              "      <th>6</th>\n",
              "      <td>Amy Cuddy</td>\n",
              "      <td>57074270</td>\n",
              "    </tr>\n",
              "    <tr>\n",
              "      <th>7</th>\n",
              "      <td>Julian Treasure</td>\n",
              "      <td>54799681</td>\n",
              "    </tr>\n",
              "    <tr>\n",
              "      <th>8</th>\n",
              "      <td>Hans Rosling</td>\n",
              "      <td>39871561</td>\n",
              "    </tr>\n",
              "    <tr>\n",
              "      <th>9</th>\n",
              "      <td>Tim Urban</td>\n",
              "      <td>37976820</td>\n",
              "    </tr>\n",
              "    <tr>\n",
              "      <th>10</th>\n",
              "      <td>Cameron Russell</td>\n",
              "      <td>33874546</td>\n",
              "    </tr>\n",
              "    <tr>\n",
              "      <th>11</th>\n",
              "      <td>Sam Berns</td>\n",
              "      <td>33691484</td>\n",
              "    </tr>\n",
              "    <tr>\n",
              "      <th>12</th>\n",
              "      <td>Chris Anderson</td>\n",
              "      <td>32598679</td>\n",
              "    </tr>\n",
              "    <tr>\n",
              "      <th>13</th>\n",
              "      <td>Robert Waldinger</td>\n",
              "      <td>32396714</td>\n",
              "    </tr>\n",
              "    <tr>\n",
              "      <th>14</th>\n",
              "      <td>Esther Perel</td>\n",
              "      <td>31460367</td>\n",
              "    </tr>\n",
              "  </tbody>\n",
              "</table>\n",
              "</div>"
            ],
            "text/plain": [
              "           speaker_1      views\n",
              "0       Alex Gendler  117619583\n",
              "1   Sir Ken Robinson   84380518\n",
              "2       James Veitch   78843641\n",
              "3        Simon Sinek   62661183\n",
              "4        Brené Brown   61285977\n",
              "5         Bill Gates   57107176\n",
              "6          Amy Cuddy   57074270\n",
              "7    Julian Treasure   54799681\n",
              "8       Hans Rosling   39871561\n",
              "9          Tim Urban   37976820\n",
              "10   Cameron Russell   33874546\n",
              "11         Sam Berns   33691484\n",
              "12    Chris Anderson   32598679\n",
              "13  Robert Waldinger   32396714\n",
              "14      Esther Perel   31460367"
            ]
          },
          "metadata": {},
          "execution_count": 307
        }
      ]
    },
    {
      "cell_type": "markdown",
      "metadata": {
        "id": "BCfduw8ZgF1c"
      },
      "source": [
        "* Alex Gendler is the most Popular speaker followed by Sir Ken Robinson\t "
      ]
    },
    {
      "cell_type": "code",
      "metadata": {
        "id": "BPVoYv9axPHW"
      },
      "source": [
        "# exploring the various event categories\n",
        "events=Ted_df.groupby('event')['views'].sum().nlargest(10).reset_index()"
      ],
      "execution_count": 308,
      "outputs": []
    },
    {
      "cell_type": "code",
      "metadata": {
        "colab": {
          "base_uri": "https://localhost:8080/",
          "height": 543
        },
        "id": "QZ_MghFTxSnp",
        "outputId": "6f034b5e-1abb-49d5-a3ed-5f3afa20775a"
      },
      "source": [
        "# Most popular event by No of Views\n",
        "plt.figure(figsize=(12,7))\n",
        "plt.title('most popular events')\n",
        "sns.barplot(x='event',y='views',data=events)\n",
        "plt.xticks(rotation=90)\n",
        "plt.show()"
      ],
      "execution_count": 309,
      "outputs": [
        {
          "output_type": "display_data",
          "data": {
            "image/png": "[encoded data removed]",
            "text/plain": [
              "<Figure size 864x504 with 1 Axes>"
            ]
          },
          "metadata": {}
        }
      ]
    },
    {
      "cell_type": "markdown",
      "metadata": {
        "id": "6IBVeFDxvGkT"
      },
      "source": [
        "* TED-Ed is the most popular event category with most no of views "
      ]
    },
    {
      "cell_type": "code",
      "metadata": {
        "colab": {
          "base_uri": "https://localhost:8080/",
          "height": 427
        },
        "id": "fOsaw-lmyi0V",
        "outputId": "8bfa862d-eea6-49c9-8509-8d7a5b7513e2"
      },
      "source": [
        "# native language column\n",
        "#plotting the countplot of native_lang column\n",
        "plt.figure(figsize=(10,6))\n",
        "sns.countplot(x=Ted_df['native_lang'])\n",
        "plt.title('Native language')"
      ],
      "execution_count": 310,
      "outputs": [
        {
          "output_type": "execute_result",
          "data": {
            "text/plain": [
              "Text(0.5, 1.0, 'Native language')"
            ]
          },
          "metadata": {},
          "execution_count": 310
        },
        {
          "output_type": "display_data",
          "data": {
            "image/png": "[encoded data removed]",
            "text/plain": [
              "<Figure size 720x432 with 1 Axes>"
            ]
          },
          "metadata": {}
        }
      ]
    },
    {
      "cell_type": "markdown",
      "metadata": {
        "id": "vN8oVYD8zBej"
      },
      "source": [
        "* almost 99% videos are recorded in english language\n",
        "\n",
        "* We should drop this column as the data is very biaased here"
      ]
    },
    {
      "cell_type": "code",
      "metadata": {
        "id": "ZEAQyMkU11S0"
      },
      "source": [
        "# applying eval on occupations column\n",
        "Ted_df['occupations'] = Ted_df.apply(lambda row: eval(row['occupations']), axis=1)"
      ],
      "execution_count": 311,
      "outputs": []
    },
    {
      "cell_type": "code",
      "metadata": {
        "id": "TIoA-6Ws1RAK"
      },
      "source": [
        "#iterating through the each row and extracting occupations of speakers\n",
        "for index, row in Ted_df.iterrows():\n",
        "    occup_list=list(row['occupations'].values())[0][0]\n",
        "    Ted_df.loc[index,'occupation'] = str(occup_list)"
      ],
      "execution_count": 312,
      "outputs": []
    },
    {
      "cell_type": "code",
      "metadata": {
        "colab": {
          "base_uri": "https://localhost:8080/",
          "height": 460
        },
        "id": "LvRU9Z4c2iss",
        "outputId": "cabe80ac-287f-4b46-89b1-9bec193db725"
      },
      "source": [
        "# Most popular Occupations in terms of no of views\n",
        "occupation_views=Ted_df.groupby('occupation')['views'].sum().sort_values(ascending=False)[1:11].reset_index()\n",
        "plt.figure(figsize=(10,5))\n",
        "plt.title('Occupations having maximum views')\n",
        "sns.barplot(x='occupation',y='views',data=occupation_views)\n",
        "plt.xticks(rotation=90);\n"
      ],
      "execution_count": 313,
      "outputs": [
        {
          "output_type": "display_data",
          "data": {
            "image/png": "[encoded data removed]",
            "text/plain": [
              "<Figure size 720x360 with 1 Axes>"
            ]
          },
          "metadata": {}
        }
      ]
    },
    {
      "cell_type": "markdown",
      "metadata": {
        "id": "owIL20sFhrIy"
      },
      "source": [
        "* Speakers who are Writers are most popular followed by Authors and Psychologists"
      ]
    },
    {
      "cell_type": "code",
      "metadata": {
        "colab": {
          "base_uri": "https://localhost:8080/",
          "height": 359
        },
        "id": "lOd5dCzcfG0n",
        "outputId": "d98b2fc9-6297-47b9-a40c-2de44653a235"
      },
      "source": [
        "# Most discussed Ted Talks\n",
        "Ted_df.groupby('title')['comments'].sum().sort_values(ascending=False)[0:10].reset_index()\n"
      ],
      "execution_count": 314,
      "outputs": [
        {
          "output_type": "execute_result",
          "data": {
            "text/html": [
              "<div>\n",
              "<style scoped>\n",
              "    .dataframe tbody tr th:only-of-type {\n",
              "        vertical-align: middle;\n",
              "    }\n",
              "\n",
              "    .dataframe tbody tr th {\n",
              "        vertical-align: top;\n",
              "    }\n",
              "\n",
              "    .dataframe thead th {\n",
              "        text-align: right;\n",
              "    }\n",
              "</style>\n",
              "<table border=\"1\" class=\"dataframe\">\n",
              "  <thead>\n",
              "    <tr style=\"text-align: right;\">\n",
              "      <th></th>\n",
              "      <th>title</th>\n",
              "      <th>comments</th>\n",
              "    </tr>\n",
              "  </thead>\n",
              "  <tbody>\n",
              "    <tr>\n",
              "      <th>0</th>\n",
              "      <td>Militant atheism</td>\n",
              "      <td>6449.0</td>\n",
              "    </tr>\n",
              "    <tr>\n",
              "      <th>1</th>\n",
              "      <td>Do schools kill creativity?</td>\n",
              "      <td>4931.0</td>\n",
              "    </tr>\n",
              "    <tr>\n",
              "      <th>2</th>\n",
              "      <td>Science can answer moral questions</td>\n",
              "      <td>3424.0</td>\n",
              "    </tr>\n",
              "    <tr>\n",
              "      <th>3</th>\n",
              "      <td>How do you explain consciousness?</td>\n",
              "      <td>3006.0</td>\n",
              "    </tr>\n",
              "    <tr>\n",
              "      <th>4</th>\n",
              "      <td>My stroke of insight</td>\n",
              "      <td>2984.0</td>\n",
              "    </tr>\n",
              "    <tr>\n",
              "      <th>5</th>\n",
              "      <td>Your body language may shape who you are</td>\n",
              "      <td>2633.0</td>\n",
              "    </tr>\n",
              "    <tr>\n",
              "      <th>6</th>\n",
              "      <td>Taking imagination seriously</td>\n",
              "      <td>2529.0</td>\n",
              "    </tr>\n",
              "    <tr>\n",
              "      <th>7</th>\n",
              "      <td>On reading the Koran</td>\n",
              "      <td>2463.0</td>\n",
              "    </tr>\n",
              "    <tr>\n",
              "      <th>8</th>\n",
              "      <td>The danger of science denial</td>\n",
              "      <td>2366.0</td>\n",
              "    </tr>\n",
              "    <tr>\n",
              "      <th>9</th>\n",
              "      <td>The power of vulnerability</td>\n",
              "      <td>2209.0</td>\n",
              "    </tr>\n",
              "  </tbody>\n",
              "</table>\n",
              "</div>"
            ],
            "text/plain": [
              "                                      title  comments\n",
              "0                          Militant atheism    6449.0\n",
              "1               Do schools kill creativity?    4931.0\n",
              "2        Science can answer moral questions    3424.0\n",
              "3         How do you explain consciousness?    3006.0\n",
              "4                      My stroke of insight    2984.0\n",
              "5  Your body language may shape who you are    2633.0\n",
              "6              Taking imagination seriously    2529.0\n",
              "7                      On reading the Koran    2463.0\n",
              "8              The danger of science denial    2366.0\n",
              "9                The power of vulnerability    2209.0"
            ]
          },
          "metadata": {},
          "execution_count": 314
        }
      ]
    },
    {
      "cell_type": "markdown",
      "metadata": {
        "id": "aBA73VZjpr7q"
      },
      "source": [
        "* It seems that most of the debated topics are related to mainly Science and Religion "
      ]
    },
    {
      "cell_type": "code",
      "metadata": {
        "id": "prfER7uH0CjZ"
      },
      "source": [
        ""
      ],
      "execution_count": null,
      "outputs": []
    }
  ]
}