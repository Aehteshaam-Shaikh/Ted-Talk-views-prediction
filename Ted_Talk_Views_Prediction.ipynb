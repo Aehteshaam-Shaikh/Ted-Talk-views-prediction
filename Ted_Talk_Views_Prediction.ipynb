{
  "nbformat": 4,
  "nbformat_minor": 0,
  "metadata": {
    "colab": {
      "name": "Ted Talk Views Prediction.ipynb",
      "provenance": [],
      "collapsed_sections": [],
      "mount_file_id": "1TuR43qVC4eDbbAaU6KQKxfG9eEKr0s6L",
      "authorship_tag": "ABX9TyNPQqe86Ir1To+0V5ZpF4hh",
      "include_colab_link": true
    },
    "kernelspec": {
      "name": "python3",
      "display_name": "Python 3"
    },
    "language_info": {
      "name": "python"
    }
  },
  "cells": [
    {
      "cell_type": "markdown",
      "metadata": {
        "id": "view-in-github",
        "colab_type": "text"
      },
      "source": [
        "<a href=\"https://colab.research.google.com/github/Aehteshaam-Shaikh/Ted-Talk-views-prediction/blob/main/Ted_Talk_Views_Prediction.ipynb\" target=\"_parent\"><img src=\"https://colab.research.google.com/assets/colab-badge.svg\" alt=\"Open In Colab\"/></a>"
      ]
    },
    {
      "cell_type": "markdown",
      "metadata": {
        "id": "fJGRFcMRf6km"
      },
      "source": [
        "#**Ted Talk Views Prediction**"
      ]
    },
    {
      "cell_type": "markdown",
      "metadata": {
        "id": "LcOfEaqDgDz-"
      },
      "source": [
        "###TED is devoted to spreading powerful ideas on just about any topic. These datasets contain over 4,000 TED talks including transcripts in many languages Founded in 1984 by Richard Salman as a nonprofit organization that aimed at bringing experts from the fields of Technology, Entertainment, and Design together, TED Conferences have gone on to become the Mecca of ideas from virtually all walks of life. As of 2015, TED and its sister TEDx chapters have published more than 2000 talks for free consumption by the masses and its speaker list boasts of the likes of Al Gore, Jimmy Wales, Shahrukh Khan, and Bill Gates."
      ]
    },
    {
      "cell_type": "markdown",
      "metadata": {
        "id": "VySOp2P5gaAJ"
      },
      "source": [
        "\n",
        "###***Dataset Information***\n",
        "\n",
        "* Number of instances: 4,005\n",
        "\n",
        "* Number of attributes: 19"
      ]
    },
    {
      "cell_type": "markdown",
      "metadata": {
        "id": "_IT5XHpBf0Ws"
      },
      "source": [
        "\n",
        "\n",
        "\n",
        "###***Features information***:\n",
        "\n",
        "\n",
        "\n",
        "* **talk_id**: Talk identification number provided by TED\n",
        "\n",
        "* **title**: Title of the talk\n",
        "\n",
        "* **speaker_1**: First speaker in TED's speaker list\n",
        "\n",
        "* **all_speakers**: Speakers in the talk\n",
        "\n",
        "* **occupations**: Occupations of the speakers\n",
        "\n",
        "* **about_speakers**: Blurb about each speaker\n",
        "\n",
        "* **recorded_date**: Date the talk was recorded\n",
        "\n",
        "* **published_date**: Date the talk was published to TED.com\n",
        "\n",
        "* **event**: Event or medium in which the talk was given\n",
        "\n",
        "* **native_lang**: Language the talk was given in\n",
        "\n",
        "* **available_lang**: All available languages (lang_code) for a talk\n",
        "\n",
        "* **comments**: Count of comments\n",
        "\n",
        "* **duration**: Duration in seconds\n",
        "\n",
        "* **topics**: Related tags or topics for the talk\n",
        "\n",
        "* **related_talks**: Related talks (key='talk_id',value='title')\n",
        "\n",
        "* **url**: URL of the talk\n",
        "\n",
        "* **description**: Description of the talk\n",
        "\n",
        "* **transcript**: Full transcript of the talk\n",
        "\n",
        "###***Target Variable*** :\n",
        "\n",
        "* **views**: Count of views\n",
        "\n"
      ]
    },
    {
      "cell_type": "markdown",
      "metadata": {
        "id": "fnkUmHmkg4UF"
      },
      "source": [
        "###***Objective***: \n",
        "* The main objective is to build a predictive model, which could help in predicting the views of the videos uploaded on the TEDx website."
      ]
    },
    {
      "cell_type": "code",
      "metadata": {
        "colab": {
          "base_uri": "https://localhost:8080/"
        },
        "id": "coua2NP4NdW1",
        "outputId": "27f2f12b-b489-45ac-8a6b-0d32396eef18"
      },
      "source": [
        "from google.colab import drive\n",
        "drive.mount('/content/drive')"
      ],
      "execution_count": null,
      "outputs": [
        {
          "output_type": "stream",
          "name": "stdout",
          "text": [
            "Mounted at /content/drive\n"
          ]
        }
      ]
    },
    {
      "cell_type": "code",
      "metadata": {
        "id": "KIxDZBQGN8hj"
      },
      "source": [
        "#importing the libraries\n",
        "import pandas as pd\n",
        "import numpy as np\n",
        "from datetime import datetime\n",
        "import seaborn as sns\n",
        "import matplotlib.pyplot as plt\n",
        "%matplotlib inline\n",
        "from sklearn.linear_model import LinearRegression\n",
        "\n",
        "import warnings\n",
        "warnings.filterwarnings('ignore')"
      ],
      "execution_count": null,
      "outputs": []
    },
    {
      "cell_type": "code",
      "metadata": {
        "id": "rei0CFHsNmgp"
      },
      "source": [
        "Ted_df = pd.read_csv(\"/content/drive/MyDrive/Ted Talks Views Prediction - Aehteshaam Shaikh/data_ted_talks.csv\")"
      ],
      "execution_count": 331,
      "outputs": []
    },
    {
      "cell_type": "markdown",
      "metadata": {
        "id": "Vc1RbjU2O93c"
      },
      "source": [
        "#Exploratory Data Analysis "
      ]
    },
    {
      "cell_type": "code",
      "metadata": {
        "colab": {
          "base_uri": "https://localhost:8080/",
          "height": 581
        },
        "id": "nKgkn5ArN7Mw",
        "outputId": "f81518d9-98e5-4751-dedb-73b3a0f88fca"
      },
      "source": [
        "# Let's see how the dataset looks like\n",
        "Ted_df.head()"
      ],
      "execution_count": 332,
      "outputs": [
        {
          "output_type": "execute_result",
          "data": {
            "text/html": [
              "<div>\n",
              "<style scoped>\n",
              "    .dataframe tbody tr th:only-of-type {\n",
              "        vertical-align: middle;\n",
              "    }\n",
              "\n",
              "    .dataframe tbody tr th {\n",
              "        vertical-align: top;\n",
              "    }\n",
              "\n",
              "    .dataframe thead th {\n",
              "        text-align: right;\n",
              "    }\n",
              "</style>\n",
              "<table border=\"1\" class=\"dataframe\">\n",
              "  <thead>\n",
              "    <tr style=\"text-align: right;\">\n",
              "      <th></th>\n",
              "      <th>talk_id</th>\n",
              "      <th>title</th>\n",
              "      <th>speaker_1</th>\n",
              "      <th>all_speakers</th>\n",
              "      <th>occupations</th>\n",
              "      <th>about_speakers</th>\n",
              "      <th>views</th>\n",
              "      <th>recorded_date</th>\n",
              "      <th>published_date</th>\n",
              "      <th>event</th>\n",
              "      <th>native_lang</th>\n",
              "      <th>available_lang</th>\n",
              "      <th>comments</th>\n",
              "      <th>duration</th>\n",
              "      <th>topics</th>\n",
              "      <th>related_talks</th>\n",
              "      <th>url</th>\n",
              "      <th>description</th>\n",
              "      <th>transcript</th>\n",
              "    </tr>\n",
              "  </thead>\n",
              "  <tbody>\n",
              "    <tr>\n",
              "      <th>0</th>\n",
              "      <td>1</td>\n",
              "      <td>Averting the climate crisis</td>\n",
              "      <td>Al Gore</td>\n",
              "      <td>{0: 'Al Gore'}</td>\n",
              "      <td>{0: ['climate advocate']}</td>\n",
              "      <td>{0: 'Nobel Laureate Al Gore focused the world’...</td>\n",
              "      <td>3523392</td>\n",
              "      <td>2006-02-25</td>\n",
              "      <td>2006-06-27</td>\n",
              "      <td>TED2006</td>\n",
              "      <td>en</td>\n",
              "      <td>['ar', 'bg', 'cs', 'de', 'el', 'en', 'es', 'fa...</td>\n",
              "      <td>272.0</td>\n",
              "      <td>977</td>\n",
              "      <td>['alternative energy', 'cars', 'climate change...</td>\n",
              "      <td>{243: 'New thinking on the climate crisis', 54...</td>\n",
              "      <td>https://www.ted.com/talks/al_gore_averting_the...</td>\n",
              "      <td>With the same humor and humanity he exuded in ...</td>\n",
              "      <td>Thank you so much, Chris. And it's truly a gre...</td>\n",
              "    </tr>\n",
              "    <tr>\n",
              "      <th>1</th>\n",
              "      <td>92</td>\n",
              "      <td>The best stats you've ever seen</td>\n",
              "      <td>Hans Rosling</td>\n",
              "      <td>{0: 'Hans Rosling'}</td>\n",
              "      <td>{0: ['global health expert; data visionary']}</td>\n",
              "      <td>{0: 'In Hans Rosling’s hands, data sings. Glob...</td>\n",
              "      <td>14501685</td>\n",
              "      <td>2006-02-22</td>\n",
              "      <td>2006-06-27</td>\n",
              "      <td>TED2006</td>\n",
              "      <td>en</td>\n",
              "      <td>['ar', 'az', 'bg', 'bn', 'bs', 'cs', 'da', 'de...</td>\n",
              "      <td>628.0</td>\n",
              "      <td>1190</td>\n",
              "      <td>['Africa', 'Asia', 'Google', 'demo', 'economic...</td>\n",
              "      <td>{2056: \"Own your body's data\", 2296: 'A visual...</td>\n",
              "      <td>https://www.ted.com/talks/hans_rosling_the_bes...</td>\n",
              "      <td>You've never seen data presented like this. Wi...</td>\n",
              "      <td>About 10 years ago, I took on the task to teac...</td>\n",
              "    </tr>\n",
              "    <tr>\n",
              "      <th>2</th>\n",
              "      <td>7</td>\n",
              "      <td>Simplicity sells</td>\n",
              "      <td>David Pogue</td>\n",
              "      <td>{0: 'David Pogue'}</td>\n",
              "      <td>{0: ['technology columnist']}</td>\n",
              "      <td>{0: 'David Pogue is the personal technology co...</td>\n",
              "      <td>1920832</td>\n",
              "      <td>2006-02-24</td>\n",
              "      <td>2006-06-27</td>\n",
              "      <td>TED2006</td>\n",
              "      <td>en</td>\n",
              "      <td>['ar', 'bg', 'de', 'el', 'en', 'es', 'fa', 'fr...</td>\n",
              "      <td>124.0</td>\n",
              "      <td>1286</td>\n",
              "      <td>['computers', 'entertainment', 'interface desi...</td>\n",
              "      <td>{1725: '10 top time-saving tech tips', 2274: '...</td>\n",
              "      <td>https://www.ted.com/talks/david_pogue_simplici...</td>\n",
              "      <td>New York Times columnist David Pogue takes aim...</td>\n",
              "      <td>(Music: \"The Sound of Silence,\" Simon &amp; Garfun...</td>\n",
              "    </tr>\n",
              "    <tr>\n",
              "      <th>3</th>\n",
              "      <td>53</td>\n",
              "      <td>Greening the ghetto</td>\n",
              "      <td>Majora Carter</td>\n",
              "      <td>{0: 'Majora Carter'}</td>\n",
              "      <td>{0: ['activist for environmental justice']}</td>\n",
              "      <td>{0: 'Majora Carter redefined the field of envi...</td>\n",
              "      <td>2664069</td>\n",
              "      <td>2006-02-26</td>\n",
              "      <td>2006-06-27</td>\n",
              "      <td>TED2006</td>\n",
              "      <td>en</td>\n",
              "      <td>['ar', 'bg', 'bn', 'ca', 'cs', 'de', 'en', 'es...</td>\n",
              "      <td>219.0</td>\n",
              "      <td>1116</td>\n",
              "      <td>['MacArthur grant', 'activism', 'business', 'c...</td>\n",
              "      <td>{1041: '3 stories of local eco-entrepreneurshi...</td>\n",
              "      <td>https://www.ted.com/talks/majora_carter_greeni...</td>\n",
              "      <td>In an emotionally charged talk, MacArthur-winn...</td>\n",
              "      <td>If you're here today — and I'm very happy that...</td>\n",
              "    </tr>\n",
              "    <tr>\n",
              "      <th>4</th>\n",
              "      <td>66</td>\n",
              "      <td>Do schools kill creativity?</td>\n",
              "      <td>Sir Ken Robinson</td>\n",
              "      <td>{0: 'Sir Ken Robinson'}</td>\n",
              "      <td>{0: ['author', 'educator']}</td>\n",
              "      <td>{0: \"Creativity expert Sir Ken Robinson challe...</td>\n",
              "      <td>65051954</td>\n",
              "      <td>2006-02-25</td>\n",
              "      <td>2006-06-27</td>\n",
              "      <td>TED2006</td>\n",
              "      <td>en</td>\n",
              "      <td>['af', 'ar', 'az', 'be', 'bg', 'bn', 'ca', 'cs...</td>\n",
              "      <td>4931.0</td>\n",
              "      <td>1164</td>\n",
              "      <td>['children', 'creativity', 'culture', 'dance',...</td>\n",
              "      <td>{865: 'Bring on the learning revolution!', 173...</td>\n",
              "      <td>https://www.ted.com/talks/sir_ken_robinson_do_...</td>\n",
              "      <td>Sir Ken Robinson makes an entertaining and pro...</td>\n",
              "      <td>Good morning. How are you? (Audience) Good. It...</td>\n",
              "    </tr>\n",
              "  </tbody>\n",
              "</table>\n",
              "</div>"
            ],
            "text/plain": [
              "   talk_id  ...                                         transcript\n",
              "0        1  ...  Thank you so much, Chris. And it's truly a gre...\n",
              "1       92  ...  About 10 years ago, I took on the task to teac...\n",
              "2        7  ...  (Music: \"The Sound of Silence,\" Simon & Garfun...\n",
              "3       53  ...  If you're here today — and I'm very happy that...\n",
              "4       66  ...  Good morning. How are you? (Audience) Good. It...\n",
              "\n",
              "[5 rows x 19 columns]"
            ]
          },
          "metadata": {},
          "execution_count": 332
        }
      ]
    },
    {
      "cell_type": "code",
      "metadata": {
        "colab": {
          "base_uri": "https://localhost:8080/"
        },
        "id": "m8QjWbmDPdOj",
        "outputId": "d8099aed-7e93-41e9-8e69-54a87beb2c78"
      },
      "source": [
        "Ted_df.info()"
      ],
      "execution_count": 333,
      "outputs": [
        {
          "output_type": "stream",
          "name": "stdout",
          "text": [
            "<class 'pandas.core.frame.DataFrame'>\n",
            "RangeIndex: 4005 entries, 0 to 4004\n",
            "Data columns (total 19 columns):\n",
            " #   Column          Non-Null Count  Dtype  \n",
            "---  ------          --------------  -----  \n",
            " 0   talk_id         4005 non-null   int64  \n",
            " 1   title           4005 non-null   object \n",
            " 2   speaker_1       4005 non-null   object \n",
            " 3   all_speakers    4001 non-null   object \n",
            " 4   occupations     3483 non-null   object \n",
            " 5   about_speakers  3502 non-null   object \n",
            " 6   views           4005 non-null   int64  \n",
            " 7   recorded_date   4004 non-null   object \n",
            " 8   published_date  4005 non-null   object \n",
            " 9   event           4005 non-null   object \n",
            " 10  native_lang     4005 non-null   object \n",
            " 11  available_lang  4005 non-null   object \n",
            " 12  comments        3350 non-null   float64\n",
            " 13  duration        4005 non-null   int64  \n",
            " 14  topics          4005 non-null   object \n",
            " 15  related_talks   4005 non-null   object \n",
            " 16  url             4005 non-null   object \n",
            " 17  description     4005 non-null   object \n",
            " 18  transcript      4005 non-null   object \n",
            "dtypes: float64(1), int64(3), object(15)\n",
            "memory usage: 594.6+ KB\n"
          ]
        }
      ]
    },
    {
      "cell_type": "markdown",
      "metadata": {
        "id": "iVaXM7UhPqHT"
      },
      "source": [
        "* The Dataset consist of total 19 features and 4005 entries with some features consisting of Null Values\n",
        "\n",
        "* Out of these 19 columns only 4 are Numeric and rest are either categorical or textual."
      ]
    },
    {
      "cell_type": "code",
      "metadata": {
        "colab": {
          "base_uri": "https://localhost:8080/"
        },
        "id": "8uK7cAmFTKiB",
        "outputId": "5359c75a-4bc5-463f-ed54-4620523b3593"
      },
      "source": [
        "# Checking if any Duplicate values are present in the Dataset\n",
        "Ted_df.duplicated().sum()"
      ],
      "execution_count": 334,
      "outputs": [
        {
          "output_type": "execute_result",
          "data": {
            "text/plain": [
              "0"
            ]
          },
          "metadata": {},
          "execution_count": 334
        }
      ]
    },
    {
      "cell_type": "code",
      "metadata": {
        "colab": {
          "base_uri": "https://localhost:8080/",
          "height": 478
        },
        "id": "jsXOiNEKPkl_",
        "outputId": "85485571-a39e-49a6-cdd2-6740435b7f16"
      },
      "source": [
        "Ted_df.describe(include = 'all')"
      ],
      "execution_count": 335,
      "outputs": [
        {
          "output_type": "execute_result",
          "data": {
            "text/html": [
              "<div>\n",
              "<style scoped>\n",
              "    .dataframe tbody tr th:only-of-type {\n",
              "        vertical-align: middle;\n",
              "    }\n",
              "\n",
              "    .dataframe tbody tr th {\n",
              "        vertical-align: top;\n",
              "    }\n",
              "\n",
              "    .dataframe thead th {\n",
              "        text-align: right;\n",
              "    }\n",
              "</style>\n",
              "<table border=\"1\" class=\"dataframe\">\n",
              "  <thead>\n",
              "    <tr style=\"text-align: right;\">\n",
              "      <th></th>\n",
              "      <th>talk_id</th>\n",
              "      <th>title</th>\n",
              "      <th>speaker_1</th>\n",
              "      <th>all_speakers</th>\n",
              "      <th>occupations</th>\n",
              "      <th>about_speakers</th>\n",
              "      <th>views</th>\n",
              "      <th>recorded_date</th>\n",
              "      <th>published_date</th>\n",
              "      <th>event</th>\n",
              "      <th>native_lang</th>\n",
              "      <th>available_lang</th>\n",
              "      <th>comments</th>\n",
              "      <th>duration</th>\n",
              "      <th>topics</th>\n",
              "      <th>related_talks</th>\n",
              "      <th>url</th>\n",
              "      <th>description</th>\n",
              "      <th>transcript</th>\n",
              "    </tr>\n",
              "  </thead>\n",
              "  <tbody>\n",
              "    <tr>\n",
              "      <th>count</th>\n",
              "      <td>4005.000000</td>\n",
              "      <td>4005</td>\n",
              "      <td>4005</td>\n",
              "      <td>4001</td>\n",
              "      <td>3483</td>\n",
              "      <td>3502</td>\n",
              "      <td>4.005000e+03</td>\n",
              "      <td>4004</td>\n",
              "      <td>4005</td>\n",
              "      <td>4005</td>\n",
              "      <td>4005</td>\n",
              "      <td>4005</td>\n",
              "      <td>3350.000000</td>\n",
              "      <td>4005.000000</td>\n",
              "      <td>4005</td>\n",
              "      <td>4005</td>\n",
              "      <td>4005</td>\n",
              "      <td>4005</td>\n",
              "      <td>4005</td>\n",
              "    </tr>\n",
              "    <tr>\n",
              "      <th>unique</th>\n",
              "      <td>NaN</td>\n",
              "      <td>4005</td>\n",
              "      <td>3274</td>\n",
              "      <td>3306</td>\n",
              "      <td>2049</td>\n",
              "      <td>2977</td>\n",
              "      <td>NaN</td>\n",
              "      <td>1334</td>\n",
              "      <td>2962</td>\n",
              "      <td>459</td>\n",
              "      <td>12</td>\n",
              "      <td>3902</td>\n",
              "      <td>NaN</td>\n",
              "      <td>NaN</td>\n",
              "      <td>3977</td>\n",
              "      <td>4005</td>\n",
              "      <td>4005</td>\n",
              "      <td>4005</td>\n",
              "      <td>4005</td>\n",
              "    </tr>\n",
              "    <tr>\n",
              "      <th>top</th>\n",
              "      <td>NaN</td>\n",
              "      <td>A brie(f) history of cheese</td>\n",
              "      <td>Alex Gendler</td>\n",
              "      <td>{0: 'Alex Gendler'}</td>\n",
              "      <td>{0: ['writer']}</td>\n",
              "      <td>{0: 'Alex Rosenthal takes everyday experiences...</td>\n",
              "      <td>NaN</td>\n",
              "      <td>2017-04-24</td>\n",
              "      <td>2017-09-07</td>\n",
              "      <td>TED-Ed</td>\n",
              "      <td>en</td>\n",
              "      <td>['en']</td>\n",
              "      <td>NaN</td>\n",
              "      <td>NaN</td>\n",
              "      <td>['TED-Ed', 'math']</td>\n",
              "      <td>{702: 'The ancient ingenuity of water harvesti...</td>\n",
              "      <td>https://www.ted.com/talks/arthur_ganson_moving...</td>\n",
              "      <td>Top climate scientist James Hansen tells the s...</td>\n",
              "      <td>I bet all of you are familiar with this view o...</td>\n",
              "    </tr>\n",
              "    <tr>\n",
              "      <th>freq</th>\n",
              "      <td>NaN</td>\n",
              "      <td>1</td>\n",
              "      <td>34</td>\n",
              "      <td>34</td>\n",
              "      <td>53</td>\n",
              "      <td>10</td>\n",
              "      <td>NaN</td>\n",
              "      <td>97</td>\n",
              "      <td>27</td>\n",
              "      <td>556</td>\n",
              "      <td>3957</td>\n",
              "      <td>24</td>\n",
              "      <td>NaN</td>\n",
              "      <td>NaN</td>\n",
              "      <td>8</td>\n",
              "      <td>1</td>\n",
              "      <td>1</td>\n",
              "      <td>1</td>\n",
              "      <td>1</td>\n",
              "    </tr>\n",
              "    <tr>\n",
              "      <th>mean</th>\n",
              "      <td>12432.538327</td>\n",
              "      <td>NaN</td>\n",
              "      <td>NaN</td>\n",
              "      <td>NaN</td>\n",
              "      <td>NaN</td>\n",
              "      <td>NaN</td>\n",
              "      <td>2.148006e+06</td>\n",
              "      <td>NaN</td>\n",
              "      <td>NaN</td>\n",
              "      <td>NaN</td>\n",
              "      <td>NaN</td>\n",
              "      <td>NaN</td>\n",
              "      <td>161.997015</td>\n",
              "      <td>724.011236</td>\n",
              "      <td>NaN</td>\n",
              "      <td>NaN</td>\n",
              "      <td>NaN</td>\n",
              "      <td>NaN</td>\n",
              "      <td>NaN</td>\n",
              "    </tr>\n",
              "    <tr>\n",
              "      <th>std</th>\n",
              "      <td>17447.576262</td>\n",
              "      <td>NaN</td>\n",
              "      <td>NaN</td>\n",
              "      <td>NaN</td>\n",
              "      <td>NaN</td>\n",
              "      <td>NaN</td>\n",
              "      <td>3.451226e+06</td>\n",
              "      <td>NaN</td>\n",
              "      <td>NaN</td>\n",
              "      <td>NaN</td>\n",
              "      <td>NaN</td>\n",
              "      <td>NaN</td>\n",
              "      <td>268.838922</td>\n",
              "      <td>361.775462</td>\n",
              "      <td>NaN</td>\n",
              "      <td>NaN</td>\n",
              "      <td>NaN</td>\n",
              "      <td>NaN</td>\n",
              "      <td>NaN</td>\n",
              "    </tr>\n",
              "    <tr>\n",
              "      <th>min</th>\n",
              "      <td>1.000000</td>\n",
              "      <td>NaN</td>\n",
              "      <td>NaN</td>\n",
              "      <td>NaN</td>\n",
              "      <td>NaN</td>\n",
              "      <td>NaN</td>\n",
              "      <td>0.000000e+00</td>\n",
              "      <td>NaN</td>\n",
              "      <td>NaN</td>\n",
              "      <td>NaN</td>\n",
              "      <td>NaN</td>\n",
              "      <td>NaN</td>\n",
              "      <td>0.000000</td>\n",
              "      <td>60.000000</td>\n",
              "      <td>NaN</td>\n",
              "      <td>NaN</td>\n",
              "      <td>NaN</td>\n",
              "      <td>NaN</td>\n",
              "      <td>NaN</td>\n",
              "    </tr>\n",
              "    <tr>\n",
              "      <th>25%</th>\n",
              "      <td>1252.000000</td>\n",
              "      <td>NaN</td>\n",
              "      <td>NaN</td>\n",
              "      <td>NaN</td>\n",
              "      <td>NaN</td>\n",
              "      <td>NaN</td>\n",
              "      <td>8.820690e+05</td>\n",
              "      <td>NaN</td>\n",
              "      <td>NaN</td>\n",
              "      <td>NaN</td>\n",
              "      <td>NaN</td>\n",
              "      <td>NaN</td>\n",
              "      <td>38.000000</td>\n",
              "      <td>393.000000</td>\n",
              "      <td>NaN</td>\n",
              "      <td>NaN</td>\n",
              "      <td>NaN</td>\n",
              "      <td>NaN</td>\n",
              "      <td>NaN</td>\n",
              "    </tr>\n",
              "    <tr>\n",
              "      <th>50%</th>\n",
              "      <td>2333.000000</td>\n",
              "      <td>NaN</td>\n",
              "      <td>NaN</td>\n",
              "      <td>NaN</td>\n",
              "      <td>NaN</td>\n",
              "      <td>NaN</td>\n",
              "      <td>1.375508e+06</td>\n",
              "      <td>NaN</td>\n",
              "      <td>NaN</td>\n",
              "      <td>NaN</td>\n",
              "      <td>NaN</td>\n",
              "      <td>NaN</td>\n",
              "      <td>89.000000</td>\n",
              "      <td>738.000000</td>\n",
              "      <td>NaN</td>\n",
              "      <td>NaN</td>\n",
              "      <td>NaN</td>\n",
              "      <td>NaN</td>\n",
              "      <td>NaN</td>\n",
              "    </tr>\n",
              "    <tr>\n",
              "      <th>75%</th>\n",
              "      <td>23777.000000</td>\n",
              "      <td>NaN</td>\n",
              "      <td>NaN</td>\n",
              "      <td>NaN</td>\n",
              "      <td>NaN</td>\n",
              "      <td>NaN</td>\n",
              "      <td>2.133110e+06</td>\n",
              "      <td>NaN</td>\n",
              "      <td>NaN</td>\n",
              "      <td>NaN</td>\n",
              "      <td>NaN</td>\n",
              "      <td>NaN</td>\n",
              "      <td>188.000000</td>\n",
              "      <td>974.000000</td>\n",
              "      <td>NaN</td>\n",
              "      <td>NaN</td>\n",
              "      <td>NaN</td>\n",
              "      <td>NaN</td>\n",
              "      <td>NaN</td>\n",
              "    </tr>\n",
              "    <tr>\n",
              "      <th>max</th>\n",
              "      <td>62794.000000</td>\n",
              "      <td>NaN</td>\n",
              "      <td>NaN</td>\n",
              "      <td>NaN</td>\n",
              "      <td>NaN</td>\n",
              "      <td>NaN</td>\n",
              "      <td>6.505195e+07</td>\n",
              "      <td>NaN</td>\n",
              "      <td>NaN</td>\n",
              "      <td>NaN</td>\n",
              "      <td>NaN</td>\n",
              "      <td>NaN</td>\n",
              "      <td>6449.000000</td>\n",
              "      <td>3922.000000</td>\n",
              "      <td>NaN</td>\n",
              "      <td>NaN</td>\n",
              "      <td>NaN</td>\n",
              "      <td>NaN</td>\n",
              "      <td>NaN</td>\n",
              "    </tr>\n",
              "  </tbody>\n",
              "</table>\n",
              "</div>"
            ],
            "text/plain": [
              "             talk_id  ...                                         transcript\n",
              "count    4005.000000  ...                                               4005\n",
              "unique           NaN  ...                                               4005\n",
              "top              NaN  ...  I bet all of you are familiar with this view o...\n",
              "freq             NaN  ...                                                  1\n",
              "mean    12432.538327  ...                                                NaN\n",
              "std     17447.576262  ...                                                NaN\n",
              "min         1.000000  ...                                                NaN\n",
              "25%      1252.000000  ...                                                NaN\n",
              "50%      2333.000000  ...                                                NaN\n",
              "75%     23777.000000  ...                                                NaN\n",
              "max     62794.000000  ...                                                NaN\n",
              "\n",
              "[11 rows x 19 columns]"
            ]
          },
          "metadata": {},
          "execution_count": 335
        }
      ]
    },
    {
      "cell_type": "markdown",
      "metadata": {
        "id": "4EjZIQfHTN-d"
      },
      "source": [
        "###Handling the Null values in the Dataset"
      ]
    },
    {
      "cell_type": "code",
      "metadata": {
        "colab": {
          "base_uri": "https://localhost:8080/"
        },
        "id": "YNH2tmueSsJy",
        "outputId": "e8a372d3-49ce-47fd-8639-e1196de95d8c"
      },
      "source": [
        "Ted_df.isna().sum()"
      ],
      "execution_count": 336,
      "outputs": [
        {
          "output_type": "execute_result",
          "data": {
            "text/plain": [
              "talk_id             0\n",
              "title               0\n",
              "speaker_1           0\n",
              "all_speakers        4\n",
              "occupations       522\n",
              "about_speakers    503\n",
              "views               0\n",
              "recorded_date       1\n",
              "published_date      0\n",
              "event               0\n",
              "native_lang         0\n",
              "available_lang      0\n",
              "comments          655\n",
              "duration            0\n",
              "topics              0\n",
              "related_talks       0\n",
              "url                 0\n",
              "description         0\n",
              "transcript          0\n",
              "dtype: int64"
            ]
          },
          "metadata": {},
          "execution_count": 336
        }
      ]
    },
    {
      "cell_type": "code",
      "metadata": {
        "colab": {
          "base_uri": "https://localhost:8080/",
          "height": 35
        },
        "id": "TrNYICcRTWE6",
        "outputId": "96f3b694-6da1-4ca2-88d3-9afe26bcfffa"
      },
      "source": [
        "Ted_df['about_speakers'][0]    "
      ],
      "execution_count": 337,
      "outputs": [
        {
          "output_type": "execute_result",
          "data": {
            "application/vnd.google.colaboratory.intrinsic+json": {
              "type": "string"
            },
            "text/plain": [
              "\"{0: 'Nobel Laureate Al Gore focused the world’s attention on the global climate crisis. Now he’s showing us how we’re moving towards real solutions.\\\\r\\\\n'}\""
            ]
          },
          "metadata": {},
          "execution_count": 337
        }
      ]
    },
    {
      "cell_type": "markdown",
      "metadata": {
        "id": "m2yTzA5BVuT7"
      },
      "source": [
        "As the 'about_speakers column gives the description about the speaker which may not be helpful in our journey"
      ]
    },
    {
      "cell_type": "code",
      "metadata": {
        "id": "UNgiA7Jisx5p"
      },
      "source": [
        "Ted_df.drop(['talk_id','about_speakers'],axis=1,inplace=True)"
      ],
      "execution_count": 338,
      "outputs": []
    },
    {
      "cell_type": "code",
      "metadata": {
        "id": "cWcTQNmDU40A"
      },
      "source": [
        "Ted_df['recorded_date'].fillna('',inplace=True)  \n",
        "Ted_df['comments'].fillna(Ted_df['comments'].mean(),inplace=True)\n",
        "Ted_df['all_speakers'].fillna('',inplace= True)"
      ],
      "execution_count": 339,
      "outputs": []
    },
    {
      "cell_type": "code",
      "metadata": {
        "id": "CWEdvEIGVjwX"
      },
      "source": [
        "# Setting the Null values in Occupation column to Others Category\n",
        "Ted_df['occupations'].fillna(str({0:['Other']}),inplace = True)"
      ],
      "execution_count": 340,
      "outputs": []
    },
    {
      "cell_type": "code",
      "metadata": {
        "colab": {
          "base_uri": "https://localhost:8080/"
        },
        "id": "OhJkFzR_TI5Q",
        "outputId": "1c7ca49a-7f2b-4c00-aab4-bdb1152908d3"
      },
      "source": [
        "Ted_df.isna().sum()"
      ],
      "execution_count": 341,
      "outputs": [
        {
          "output_type": "execute_result",
          "data": {
            "text/plain": [
              "title             0\n",
              "speaker_1         0\n",
              "all_speakers      0\n",
              "occupations       0\n",
              "views             0\n",
              "recorded_date     0\n",
              "published_date    0\n",
              "event             0\n",
              "native_lang       0\n",
              "available_lang    0\n",
              "comments          0\n",
              "duration          0\n",
              "topics            0\n",
              "related_talks     0\n",
              "url               0\n",
              "description       0\n",
              "transcript        0\n",
              "dtype: int64"
            ]
          },
          "metadata": {},
          "execution_count": 341
        }
      ]
    },
    {
      "cell_type": "markdown",
      "metadata": {
        "id": "zZ7zbcuNT30r"
      },
      "source": [
        "###Exploring the Published Date Column :"
      ]
    },
    {
      "cell_type": "code",
      "metadata": {
        "id": "zv6u0maaTrs9"
      },
      "source": [
        "# Converting Published date column to datetime type\n",
        "Ted_df['published_date'] = Ted_df['published_date'].apply((lambda x: datetime.strptime(x,\"%Y-%m-%d\")))"
      ],
      "execution_count": 342,
      "outputs": []
    },
    {
      "cell_type": "code",
      "metadata": {
        "id": "ojeKO8MyVlv4"
      },
      "source": [
        "#extracting release day, month and year from the published date column\n",
        "Ted_df['release_day']   = Ted_df['published_date'].apply(lambda x: x.weekday())\n",
        "Ted_df['release_month'] = Ted_df['published_date'].apply(lambda x: x.month)\n",
        "Ted_df['release_year']  = Ted_df['published_date'].apply(lambda x: x.year)"
      ],
      "execution_count": 343,
      "outputs": []
    },
    {
      "cell_type": "code",
      "metadata": {
        "colab": {
          "base_uri": "https://localhost:8080/",
          "height": 1000
        },
        "id": "m0VmuzKgWQ4q",
        "outputId": "0f74f1d9-f62f-41c2-b18b-4d91579dac8a"
      },
      "source": [
        "Ted_df"
      ],
      "execution_count": 344,
      "outputs": [
        {
          "output_type": "execute_result",
          "data": {
            "text/html": [
              "<div>\n",
              "<style scoped>\n",
              "    .dataframe tbody tr th:only-of-type {\n",
              "        vertical-align: middle;\n",
              "    }\n",
              "\n",
              "    .dataframe tbody tr th {\n",
              "        vertical-align: top;\n",
              "    }\n",
              "\n",
              "    .dataframe thead th {\n",
              "        text-align: right;\n",
              "    }\n",
              "</style>\n",
              "<table border=\"1\" class=\"dataframe\">\n",
              "  <thead>\n",
              "    <tr style=\"text-align: right;\">\n",
              "      <th></th>\n",
              "      <th>title</th>\n",
              "      <th>speaker_1</th>\n",
              "      <th>all_speakers</th>\n",
              "      <th>occupations</th>\n",
              "      <th>views</th>\n",
              "      <th>recorded_date</th>\n",
              "      <th>published_date</th>\n",
              "      <th>event</th>\n",
              "      <th>native_lang</th>\n",
              "      <th>available_lang</th>\n",
              "      <th>comments</th>\n",
              "      <th>duration</th>\n",
              "      <th>topics</th>\n",
              "      <th>related_talks</th>\n",
              "      <th>url</th>\n",
              "      <th>description</th>\n",
              "      <th>transcript</th>\n",
              "      <th>release_day</th>\n",
              "      <th>release_month</th>\n",
              "      <th>release_year</th>\n",
              "    </tr>\n",
              "  </thead>\n",
              "  <tbody>\n",
              "    <tr>\n",
              "      <th>0</th>\n",
              "      <td>Averting the climate crisis</td>\n",
              "      <td>Al Gore</td>\n",
              "      <td>{0: 'Al Gore'}</td>\n",
              "      <td>{0: ['climate advocate']}</td>\n",
              "      <td>3523392</td>\n",
              "      <td>2006-02-25</td>\n",
              "      <td>2006-06-27</td>\n",
              "      <td>TED2006</td>\n",
              "      <td>en</td>\n",
              "      <td>['ar', 'bg', 'cs', 'de', 'el', 'en', 'es', 'fa...</td>\n",
              "      <td>272.000000</td>\n",
              "      <td>977</td>\n",
              "      <td>['alternative energy', 'cars', 'climate change...</td>\n",
              "      <td>{243: 'New thinking on the climate crisis', 54...</td>\n",
              "      <td>https://www.ted.com/talks/al_gore_averting_the...</td>\n",
              "      <td>With the same humor and humanity he exuded in ...</td>\n",
              "      <td>Thank you so much, Chris. And it's truly a gre...</td>\n",
              "      <td>1</td>\n",
              "      <td>6</td>\n",
              "      <td>2006</td>\n",
              "    </tr>\n",
              "    <tr>\n",
              "      <th>1</th>\n",
              "      <td>The best stats you've ever seen</td>\n",
              "      <td>Hans Rosling</td>\n",
              "      <td>{0: 'Hans Rosling'}</td>\n",
              "      <td>{0: ['global health expert; data visionary']}</td>\n",
              "      <td>14501685</td>\n",
              "      <td>2006-02-22</td>\n",
              "      <td>2006-06-27</td>\n",
              "      <td>TED2006</td>\n",
              "      <td>en</td>\n",
              "      <td>['ar', 'az', 'bg', 'bn', 'bs', 'cs', 'da', 'de...</td>\n",
              "      <td>628.000000</td>\n",
              "      <td>1190</td>\n",
              "      <td>['Africa', 'Asia', 'Google', 'demo', 'economic...</td>\n",
              "      <td>{2056: \"Own your body's data\", 2296: 'A visual...</td>\n",
              "      <td>https://www.ted.com/talks/hans_rosling_the_bes...</td>\n",
              "      <td>You've never seen data presented like this. Wi...</td>\n",
              "      <td>About 10 years ago, I took on the task to teac...</td>\n",
              "      <td>1</td>\n",
              "      <td>6</td>\n",
              "      <td>2006</td>\n",
              "    </tr>\n",
              "    <tr>\n",
              "      <th>2</th>\n",
              "      <td>Simplicity sells</td>\n",
              "      <td>David Pogue</td>\n",
              "      <td>{0: 'David Pogue'}</td>\n",
              "      <td>{0: ['technology columnist']}</td>\n",
              "      <td>1920832</td>\n",
              "      <td>2006-02-24</td>\n",
              "      <td>2006-06-27</td>\n",
              "      <td>TED2006</td>\n",
              "      <td>en</td>\n",
              "      <td>['ar', 'bg', 'de', 'el', 'en', 'es', 'fa', 'fr...</td>\n",
              "      <td>124.000000</td>\n",
              "      <td>1286</td>\n",
              "      <td>['computers', 'entertainment', 'interface desi...</td>\n",
              "      <td>{1725: '10 top time-saving tech tips', 2274: '...</td>\n",
              "      <td>https://www.ted.com/talks/david_pogue_simplici...</td>\n",
              "      <td>New York Times columnist David Pogue takes aim...</td>\n",
              "      <td>(Music: \"The Sound of Silence,\" Simon &amp; Garfun...</td>\n",
              "      <td>1</td>\n",
              "      <td>6</td>\n",
              "      <td>2006</td>\n",
              "    </tr>\n",
              "    <tr>\n",
              "      <th>3</th>\n",
              "      <td>Greening the ghetto</td>\n",
              "      <td>Majora Carter</td>\n",
              "      <td>{0: 'Majora Carter'}</td>\n",
              "      <td>{0: ['activist for environmental justice']}</td>\n",
              "      <td>2664069</td>\n",
              "      <td>2006-02-26</td>\n",
              "      <td>2006-06-27</td>\n",
              "      <td>TED2006</td>\n",
              "      <td>en</td>\n",
              "      <td>['ar', 'bg', 'bn', 'ca', 'cs', 'de', 'en', 'es...</td>\n",
              "      <td>219.000000</td>\n",
              "      <td>1116</td>\n",
              "      <td>['MacArthur grant', 'activism', 'business', 'c...</td>\n",
              "      <td>{1041: '3 stories of local eco-entrepreneurshi...</td>\n",
              "      <td>https://www.ted.com/talks/majora_carter_greeni...</td>\n",
              "      <td>In an emotionally charged talk, MacArthur-winn...</td>\n",
              "      <td>If you're here today — and I'm very happy that...</td>\n",
              "      <td>1</td>\n",
              "      <td>6</td>\n",
              "      <td>2006</td>\n",
              "    </tr>\n",
              "    <tr>\n",
              "      <th>4</th>\n",
              "      <td>Do schools kill creativity?</td>\n",
              "      <td>Sir Ken Robinson</td>\n",
              "      <td>{0: 'Sir Ken Robinson'}</td>\n",
              "      <td>{0: ['author', 'educator']}</td>\n",
              "      <td>65051954</td>\n",
              "      <td>2006-02-25</td>\n",
              "      <td>2006-06-27</td>\n",
              "      <td>TED2006</td>\n",
              "      <td>en</td>\n",
              "      <td>['af', 'ar', 'az', 'be', 'bg', 'bn', 'ca', 'cs...</td>\n",
              "      <td>4931.000000</td>\n",
              "      <td>1164</td>\n",
              "      <td>['children', 'creativity', 'culture', 'dance',...</td>\n",
              "      <td>{865: 'Bring on the learning revolution!', 173...</td>\n",
              "      <td>https://www.ted.com/talks/sir_ken_robinson_do_...</td>\n",
              "      <td>Sir Ken Robinson makes an entertaining and pro...</td>\n",
              "      <td>Good morning. How are you? (Audience) Good. It...</td>\n",
              "      <td>1</td>\n",
              "      <td>6</td>\n",
              "      <td>2006</td>\n",
              "    </tr>\n",
              "    <tr>\n",
              "      <th>...</th>\n",
              "      <td>...</td>\n",
              "      <td>...</td>\n",
              "      <td>...</td>\n",
              "      <td>...</td>\n",
              "      <td>...</td>\n",
              "      <td>...</td>\n",
              "      <td>...</td>\n",
              "      <td>...</td>\n",
              "      <td>...</td>\n",
              "      <td>...</td>\n",
              "      <td>...</td>\n",
              "      <td>...</td>\n",
              "      <td>...</td>\n",
              "      <td>...</td>\n",
              "      <td>...</td>\n",
              "      <td>...</td>\n",
              "      <td>...</td>\n",
              "      <td>...</td>\n",
              "      <td>...</td>\n",
              "      <td>...</td>\n",
              "    </tr>\n",
              "    <tr>\n",
              "      <th>4000</th>\n",
              "      <td>Crisis support for the world, one text away</td>\n",
              "      <td>Nancy Lublin</td>\n",
              "      <td>{0: 'Nancy Lublin'}</td>\n",
              "      <td>{0: ['health activist']}</td>\n",
              "      <td>502934</td>\n",
              "      <td>2020-04-22</td>\n",
              "      <td>2020-04-27</td>\n",
              "      <td>TED2020: The Prequel</td>\n",
              "      <td>en</td>\n",
              "      <td>['en']</td>\n",
              "      <td>6.000000</td>\n",
              "      <td>690</td>\n",
              "      <td>['activism', 'data', 'technology', 'mental hea...</td>\n",
              "      <td>{2362: 'How data from a crisis text line is sa...</td>\n",
              "      <td>https://www.ted.com/talks/nancy_lublin_crisis_...</td>\n",
              "      <td>What if we could help people in crisis anytime...</td>\n",
              "      <td>\"I'm 14, and I want to go home.\" \"My name is B...</td>\n",
              "      <td>0</td>\n",
              "      <td>4</td>\n",
              "      <td>2020</td>\n",
              "    </tr>\n",
              "    <tr>\n",
              "      <th>4001</th>\n",
              "      <td>The dark history of IQ tests</td>\n",
              "      <td>Stefan C Dombrowski</td>\n",
              "      <td>{0: 'Stefan C Dombrowski'}</td>\n",
              "      <td>{0: ['Other']}</td>\n",
              "      <td>307187</td>\n",
              "      <td>2020-04-27</td>\n",
              "      <td>2020-04-27</td>\n",
              "      <td>TED-Ed</td>\n",
              "      <td>en</td>\n",
              "      <td>['en', 'es', 'my', 'pt-br']</td>\n",
              "      <td>161.997015</td>\n",
              "      <td>346</td>\n",
              "      <td>['TED-Ed', 'education', 'history', 'animation'...</td>\n",
              "      <td>{35386: 'How does the Rorschach inkblot test w...</td>\n",
              "      <td>https://www.ted.com/talks/stefan_c_dombrowski_...</td>\n",
              "      <td>In 1905, psychologists Alfred Binet and Théodo...</td>\n",
              "      <td>In 1905, psychologists Alfred Binet and Théodo...</td>\n",
              "      <td>0</td>\n",
              "      <td>4</td>\n",
              "      <td>2020</td>\n",
              "    </tr>\n",
              "    <tr>\n",
              "      <th>4002</th>\n",
              "      <td>How \"policing for profit\" undermines your rights</td>\n",
              "      <td>Dick M. Carpenter II</td>\n",
              "      <td>{0: 'Dick M. Carpenter II'}</td>\n",
              "      <td>{0: ['law researcher']}</td>\n",
              "      <td>464414</td>\n",
              "      <td>2019-06-22</td>\n",
              "      <td>2020-04-28</td>\n",
              "      <td>TEDxMileHigh</td>\n",
              "      <td>en</td>\n",
              "      <td>['en']</td>\n",
              "      <td>9.000000</td>\n",
              "      <td>774</td>\n",
              "      <td>['society', 'law', 'policy', 'justice system',...</td>\n",
              "      <td>{2406: 'I love being a police officer, but we ...</td>\n",
              "      <td>https://www.ted.com/talks/dick_m_carpenter_ii_...</td>\n",
              "      <td>Many countries have an active, centuries-old l...</td>\n",
              "      <td>Picture yourself driving down the road tomorro...</td>\n",
              "      <td>1</td>\n",
              "      <td>4</td>\n",
              "      <td>2020</td>\n",
              "    </tr>\n",
              "    <tr>\n",
              "      <th>4003</th>\n",
              "      <td>The electrifying speeches of Sojourner Truth</td>\n",
              "      <td>Daina Ramey Berry</td>\n",
              "      <td>{0: 'Daina Ramey Berry'}</td>\n",
              "      <td>{0: ['Other']}</td>\n",
              "      <td>56582</td>\n",
              "      <td>2020-04-28</td>\n",
              "      <td>2020-04-30</td>\n",
              "      <td>TED-Ed</td>\n",
              "      <td>en</td>\n",
              "      <td>['en']</td>\n",
              "      <td>161.997015</td>\n",
              "      <td>257</td>\n",
              "      <td>['TED-Ed', 'education', 'animation', 'United S...</td>\n",
              "      <td>{20973: 'The breathtaking courage of Harriet T...</td>\n",
              "      <td>https://www.ted.com/talks/daina_ramey_berry_th...</td>\n",
              "      <td>Isabella Baumfree was born into slavery in lat...</td>\n",
              "      <td>In early 1828, Sojourner Truth approached the ...</td>\n",
              "      <td>3</td>\n",
              "      <td>4</td>\n",
              "      <td>2020</td>\n",
              "    </tr>\n",
              "    <tr>\n",
              "      <th>4004</th>\n",
              "      <td>The most important anus in the ocean</td>\n",
              "      <td>Cella Wright</td>\n",
              "      <td>{0: 'Cella Wright'}</td>\n",
              "      <td>{0: ['Other']}</td>\n",
              "      <td>0</td>\n",
              "      <td>2020-04-30</td>\n",
              "      <td>2020-04-30</td>\n",
              "      <td>TED-Ed</td>\n",
              "      <td>en</td>\n",
              "      <td>['en']</td>\n",
              "      <td>161.997015</td>\n",
              "      <td>281</td>\n",
              "      <td>['animals', 'TED-Ed', 'animation', 'oceans', '...</td>\n",
              "      <td>{62347: 'The bug that poops candy', 29159: 'In...</td>\n",
              "      <td>https://www.ted.com/talks/cella_wright_the_mos...</td>\n",
              "      <td>Is it a fuzzy sock? An overripe banana? A mold...</td>\n",
              "      <td>Can you guess what you’re looking at? Is it a ...</td>\n",
              "      <td>3</td>\n",
              "      <td>4</td>\n",
              "      <td>2020</td>\n",
              "    </tr>\n",
              "  </tbody>\n",
              "</table>\n",
              "<p>4005 rows × 20 columns</p>\n",
              "</div>"
            ],
            "text/plain": [
              "                                                 title  ... release_year\n",
              "0                          Averting the climate crisis  ...         2006\n",
              "1                      The best stats you've ever seen  ...         2006\n",
              "2                                     Simplicity sells  ...         2006\n",
              "3                                  Greening the ghetto  ...         2006\n",
              "4                          Do schools kill creativity?  ...         2006\n",
              "...                                                ...  ...          ...\n",
              "4000       Crisis support for the world, one text away  ...         2020\n",
              "4001                      The dark history of IQ tests  ...         2020\n",
              "4002  How \"policing for profit\" undermines your rights  ...         2020\n",
              "4003      The electrifying speeches of Sojourner Truth  ...         2020\n",
              "4004              The most important anus in the ocean  ...         2020\n",
              "\n",
              "[4005 rows x 20 columns]"
            ]
          },
          "metadata": {},
          "execution_count": 344
        }
      ]
    },
    {
      "cell_type": "code",
      "metadata": {
        "id": "rc2t7DMyWH9T"
      },
      "source": [
        "#encoding of release_day column with corresponding week day name\n",
        "week_day={0:'Monday',1:'Tuesday',2:'Wednesday',3:'Thursday',4:'Friday',5:'Saturday',6:'Sunday'}\n",
        "Ted_df['release_day']=Ted_df['release_day'].map(week_day)"
      ],
      "execution_count": 345,
      "outputs": []
    },
    {
      "cell_type": "code",
      "metadata": {
        "colab": {
          "base_uri": "https://localhost:8080/",
          "height": 394
        },
        "id": "m2WBxYcSbrQr",
        "outputId": "42590ebe-3a74-4de3-996e-3d51ef2f9507"
      },
      "source": [
        "# checking the day of the week having maximum release date\n",
        "plt.figure(figsize=(10,6))\n",
        "sns.set_theme(style=\"darkgrid\")\n",
        "ax = sns.countplot(x='release_day', data=Ted_df)\n",
        "plt.xlabel('Day of the week')\n",
        "plt.ylabel('No of talks');"
      ],
      "execution_count": 346,
      "outputs": [
        {
          "output_type": "display_data",
          "data": {
            "image/png": "[encoded data removed]",
            "text/plain": [
              "<Figure size 720x432 with 1 Axes>"
            ]
          },
          "metadata": {}
        }
      ]
    },
    {
      "cell_type": "markdown",
      "metadata": {
        "id": "2gcA0HgQau9P"
      },
      "source": [
        "* Most no of talks were released on tuesday followed by thursday\n",
        "\n",
        "* As we can see on saturday and sunday very less ted talk videos were published\n"
      ]
    },
    {
      "cell_type": "code",
      "metadata": {
        "colab": {
          "base_uri": "https://localhost:8080/",
          "height": 427
        },
        "id": "zcXkqohxqFLJ",
        "outputId": "1e3856ee-67d0-4702-b43f-5e9c59f0f8fa"
      },
      "source": [
        "# release days with respect to views\n",
        "views_per_day=Ted_df.groupby('release_day')['views'].mean().sort_values(ascending=False).reset_index()\n",
        "plt.figure(figsize=(10,6))\n",
        "plt.title('Released week days having maximum views')\n",
        "sns.barplot(x='release_day',y='views',data=views_per_day)"
      ],
      "execution_count": 347,
      "outputs": [
        {
          "output_type": "execute_result",
          "data": {
            "text/plain": [
              "<matplotlib.axes._subplots.AxesSubplot at 0x7fcf2df86e90>"
            ]
          },
          "metadata": {},
          "execution_count": 347
        },
        {
          "output_type": "display_data",
          "data": {
            "image/png": "[encoded data removed]",
            "text/plain": [
              "<Figure size 720x432 with 1 Axes>"
            ]
          },
          "metadata": {}
        }
      ]
    },
    {
      "cell_type": "markdown",
      "metadata": {
        "id": "VITkZvNfrexq"
      },
      "source": [
        "* Most no of views are for the videos which are released on Friday"
      ]
    },
    {
      "cell_type": "code",
      "metadata": {
        "id": "9Q-ymuP1sNC5"
      },
      "source": [
        "#encoding release_month column with month names\n",
        "month_dict={1:'Jan',2:'Feb',3:'March',4:'April',5:'May',6:'June',7:'July',8:'Aug',9:'Sep',10:'Oct',11:'Nov',12:'Dec'}\n",
        "Ted_df['release_month']=Ted_df['release_month'].map(month_dict)\n"
      ],
      "execution_count": 348,
      "outputs": []
    },
    {
      "cell_type": "code",
      "metadata": {
        "colab": {
          "base_uri": "https://localhost:8080/",
          "height": 488
        },
        "id": "hjxLbGeAsULj",
        "outputId": "fdbf59f6-97ec-454f-ba69-84da342565ef"
      },
      "source": [
        "#checking months having maximum release \n",
        "plt.figure(figsize=(10,7))\n",
        "Ted_df['release_month'].value_counts().sort_values(ascending=False).plot(kind='bar')\n",
        "plt.title('Released month having maximum avg views')\n",
        "plt.xlabel('Month')\n",
        "plt.ylabel('No of talks');\n",
        "\n"
      ],
      "execution_count": 349,
      "outputs": [
        {
          "output_type": "display_data",
          "data": {
            "image/png": "[encoded data removed]",
            "text/plain": [
              "<Figure size 720x504 with 1 Axes>"
            ]
          },
          "metadata": {}
        }
      ]
    },
    {
      "cell_type": "markdown",
      "metadata": {
        "id": "pD7D5wKMvFCw"
      },
      "source": [
        "* Most no of talks were released on April followed by March and Feb."
      ]
    },
    {
      "cell_type": "code",
      "metadata": {
        "colab": {
          "base_uri": "https://localhost:8080/",
          "height": 372
        },
        "id": "yNhKLVOsvE8X",
        "outputId": "d7efea2e-df11-479d-9a3c-8ad1ea760074"
      },
      "source": [
        "# Most popular release month by average Views\n",
        "views_per_month=Ted_df.groupby('release_month')['views'].mean().sort_values(ascending=False).reset_index()\n",
        "plt.figure(figsize=(10,5))\n",
        "plt.title('Released months having maximum average views')\n",
        "sns.barplot(x='release_month',y='views',data=views_per_month)"
      ],
      "execution_count": 350,
      "outputs": [
        {
          "output_type": "execute_result",
          "data": {
            "text/plain": [
              "<matplotlib.axes._subplots.AxesSubplot at 0x7fcf2d722810>"
            ]
          },
          "metadata": {},
          "execution_count": 350
        },
        {
          "output_type": "display_data",
          "data": {
            "image/png": "[encoded data removed]",
            "text/plain": [
              "<Figure size 720x360 with 1 Axes>"
            ]
          },
          "metadata": {}
        }
      ]
    },
    {
      "cell_type": "markdown",
      "metadata": {
        "id": "uxS21zpCwP-s"
      },
      "source": [
        "* Talks released in March have most views followed by May."
      ]
    },
    {
      "cell_type": "code",
      "metadata": {
        "colab": {
          "base_uri": "https://localhost:8080/",
          "height": 482
        },
        "id": "zRNYgVGJwiEM",
        "outputId": "a73d70b4-7eae-4728-c8f3-c5d6883e6108"
      },
      "source": [
        "#checking years having maximum release \n",
        "plt.figure(figsize=(10,7))\n",
        "Ted_df['release_year'].value_counts().plot(kind='bar')\n",
        "plt.title('Released year having maximum avg views')\n",
        "plt.xlabel('Year')\n",
        "plt.ylabel('No of talks');"
      ],
      "execution_count": 351,
      "outputs": [
        {
          "output_type": "display_data",
          "data": {
            "image/png": "[encoded data removed]",
            "text/plain": [
              "<Figure size 720x504 with 1 Axes>"
            ]
          },
          "metadata": {}
        }
      ]
    },
    {
      "cell_type": "markdown",
      "metadata": {
        "id": "cs_Ufziewswp"
      },
      "source": [
        "* Most no of Talks were released in year 2019 "
      ]
    },
    {
      "cell_type": "code",
      "metadata": {
        "colab": {
          "base_uri": "https://localhost:8080/",
          "height": 427
        },
        "id": "Y-XMxup6xHuc",
        "outputId": "51d8941c-0647-41eb-8f47-0b74cfe5a163"
      },
      "source": [
        "# Most popular release year by to average Views\n",
        "views_per_year=Ted_df.groupby('release_year')['views'].mean().sort_values(ascending=False).reset_index()\n",
        "plt.figure(figsize=(10,6))\n",
        "plt.title('Released months having maximum average views')\n",
        "sns.barplot(x='release_year',y='views',data=views_per_year)"
      ],
      "execution_count": 352,
      "outputs": [
        {
          "output_type": "execute_result",
          "data": {
            "text/plain": [
              "<matplotlib.axes._subplots.AxesSubplot at 0x7fcf2d835d50>"
            ]
          },
          "metadata": {},
          "execution_count": 352
        },
        {
          "output_type": "display_data",
          "data": {
            "image/png": "[encoded data removed]",
            "text/plain": [
              "<Figure size 720x432 with 1 Axes>"
            ]
          },
          "metadata": {}
        }
      ]
    },
    {
      "cell_type": "markdown",
      "metadata": {
        "id": "AaTFr_2oxaip"
      },
      "source": [
        "* Most no of Talks were released in year 2019 but Talks released in the year 2006 have the maximum views."
      ]
    },
    {
      "cell_type": "code",
      "metadata": {
        "colab": {
          "base_uri": "https://localhost:8080/",
          "height": 204
        },
        "id": "NCNhG0Ifb-Po",
        "outputId": "1ddd187c-ada6-48ea-fb7f-0a84a992efb7"
      },
      "source": [
        "# Most viewed Ted Talks\n",
        "most_viewed=Ted_df.nlargest(5, ['views'])\n",
        "most_viewed[['speaker_1','views','title','release_year','duration']]"
      ],
      "execution_count": 353,
      "outputs": [
        {
          "output_type": "execute_result",
          "data": {
            "text/html": [
              "<div>\n",
              "<style scoped>\n",
              "    .dataframe tbody tr th:only-of-type {\n",
              "        vertical-align: middle;\n",
              "    }\n",
              "\n",
              "    .dataframe tbody tr th {\n",
              "        vertical-align: top;\n",
              "    }\n",
              "\n",
              "    .dataframe thead th {\n",
              "        text-align: right;\n",
              "    }\n",
              "</style>\n",
              "<table border=\"1\" class=\"dataframe\">\n",
              "  <thead>\n",
              "    <tr style=\"text-align: right;\">\n",
              "      <th></th>\n",
              "      <th>speaker_1</th>\n",
              "      <th>views</th>\n",
              "      <th>title</th>\n",
              "      <th>release_year</th>\n",
              "      <th>duration</th>\n",
              "    </tr>\n",
              "  </thead>\n",
              "  <tbody>\n",
              "    <tr>\n",
              "      <th>4</th>\n",
              "      <td>Sir Ken Robinson</td>\n",
              "      <td>65051954</td>\n",
              "      <td>Do schools kill creativity?</td>\n",
              "      <td>2006</td>\n",
              "      <td>1164</td>\n",
              "    </tr>\n",
              "    <tr>\n",
              "      <th>1296</th>\n",
              "      <td>Amy Cuddy</td>\n",
              "      <td>57074270</td>\n",
              "      <td>Your body language may shape who you are</td>\n",
              "      <td>2012</td>\n",
              "      <td>1262</td>\n",
              "    </tr>\n",
              "    <tr>\n",
              "      <th>2062</th>\n",
              "      <td>James Veitch</td>\n",
              "      <td>56932551</td>\n",
              "      <td>This is what happens when you reply to spam email</td>\n",
              "      <td>2016</td>\n",
              "      <td>588</td>\n",
              "    </tr>\n",
              "    <tr>\n",
              "      <th>646</th>\n",
              "      <td>Simon Sinek</td>\n",
              "      <td>49730580</td>\n",
              "      <td>How great leaders inspire action</td>\n",
              "      <td>2010</td>\n",
              "      <td>1084</td>\n",
              "    </tr>\n",
              "    <tr>\n",
              "      <th>796</th>\n",
              "      <td>Brené Brown</td>\n",
              "      <td>47544833</td>\n",
              "      <td>The power of vulnerability</td>\n",
              "      <td>2010</td>\n",
              "      <td>1219</td>\n",
              "    </tr>\n",
              "  </tbody>\n",
              "</table>\n",
              "</div>"
            ],
            "text/plain": [
              "             speaker_1     views  ... release_year  duration\n",
              "4     Sir Ken Robinson  65051954  ...         2006      1164\n",
              "1296         Amy Cuddy  57074270  ...         2012      1262\n",
              "2062      James Veitch  56932551  ...         2016       588\n",
              "646        Simon Sinek  49730580  ...         2010      1084\n",
              "796        Brené Brown  47544833  ...         2010      1219\n",
              "\n",
              "[5 rows x 5 columns]"
            ]
          },
          "metadata": {},
          "execution_count": 353
        }
      ]
    },
    {
      "cell_type": "markdown",
      "metadata": {
        "id": "myN-bXVCdeQC"
      },
      "source": [
        "* Sir Ken Robinson's 'Do schools kill creativity?' is the most viewed Talk with more than 65 million views."
      ]
    },
    {
      "cell_type": "code",
      "metadata": {
        "colab": {
          "base_uri": "https://localhost:8080/",
          "height": 514
        },
        "id": "xy_xhND0evr6",
        "outputId": "93882958-b104-4fee-ce40-3164e69969a1"
      },
      "source": [
        "Ted_df.groupby('speaker_1')['views'].sum().nlargest(15).reset_index()"
      ],
      "execution_count": 354,
      "outputs": [
        {
          "output_type": "execute_result",
          "data": {
            "text/html": [
              "<div>\n",
              "<style scoped>\n",
              "    .dataframe tbody tr th:only-of-type {\n",
              "        vertical-align: middle;\n",
              "    }\n",
              "\n",
              "    .dataframe tbody tr th {\n",
              "        vertical-align: top;\n",
              "    }\n",
              "\n",
              "    .dataframe thead th {\n",
              "        text-align: right;\n",
              "    }\n",
              "</style>\n",
              "<table border=\"1\" class=\"dataframe\">\n",
              "  <thead>\n",
              "    <tr style=\"text-align: right;\">\n",
              "      <th></th>\n",
              "      <th>speaker_1</th>\n",
              "      <th>views</th>\n",
              "    </tr>\n",
              "  </thead>\n",
              "  <tbody>\n",
              "    <tr>\n",
              "      <th>0</th>\n",
              "      <td>Alex Gendler</td>\n",
              "      <td>117619583</td>\n",
              "    </tr>\n",
              "    <tr>\n",
              "      <th>1</th>\n",
              "      <td>Sir Ken Robinson</td>\n",
              "      <td>84380518</td>\n",
              "    </tr>\n",
              "    <tr>\n",
              "      <th>2</th>\n",
              "      <td>James Veitch</td>\n",
              "      <td>78843641</td>\n",
              "    </tr>\n",
              "    <tr>\n",
              "      <th>3</th>\n",
              "      <td>Simon Sinek</td>\n",
              "      <td>62661183</td>\n",
              "    </tr>\n",
              "    <tr>\n",
              "      <th>4</th>\n",
              "      <td>Brené Brown</td>\n",
              "      <td>61285977</td>\n",
              "    </tr>\n",
              "    <tr>\n",
              "      <th>5</th>\n",
              "      <td>Bill Gates</td>\n",
              "      <td>57107176</td>\n",
              "    </tr>\n",
              "    <tr>\n",
              "      <th>6</th>\n",
              "      <td>Amy Cuddy</td>\n",
              "      <td>57074270</td>\n",
              "    </tr>\n",
              "    <tr>\n",
              "      <th>7</th>\n",
              "      <td>Julian Treasure</td>\n",
              "      <td>54799681</td>\n",
              "    </tr>\n",
              "    <tr>\n",
              "      <th>8</th>\n",
              "      <td>Hans Rosling</td>\n",
              "      <td>39871561</td>\n",
              "    </tr>\n",
              "    <tr>\n",
              "      <th>9</th>\n",
              "      <td>Tim Urban</td>\n",
              "      <td>37976820</td>\n",
              "    </tr>\n",
              "    <tr>\n",
              "      <th>10</th>\n",
              "      <td>Cameron Russell</td>\n",
              "      <td>33874546</td>\n",
              "    </tr>\n",
              "    <tr>\n",
              "      <th>11</th>\n",
              "      <td>Sam Berns</td>\n",
              "      <td>33691484</td>\n",
              "    </tr>\n",
              "    <tr>\n",
              "      <th>12</th>\n",
              "      <td>Chris Anderson</td>\n",
              "      <td>32598679</td>\n",
              "    </tr>\n",
              "    <tr>\n",
              "      <th>13</th>\n",
              "      <td>Robert Waldinger</td>\n",
              "      <td>32396714</td>\n",
              "    </tr>\n",
              "    <tr>\n",
              "      <th>14</th>\n",
              "      <td>Esther Perel</td>\n",
              "      <td>31460367</td>\n",
              "    </tr>\n",
              "  </tbody>\n",
              "</table>\n",
              "</div>"
            ],
            "text/plain": [
              "           speaker_1      views\n",
              "0       Alex Gendler  117619583\n",
              "1   Sir Ken Robinson   84380518\n",
              "2       James Veitch   78843641\n",
              "3        Simon Sinek   62661183\n",
              "4        Brené Brown   61285977\n",
              "5         Bill Gates   57107176\n",
              "6          Amy Cuddy   57074270\n",
              "7    Julian Treasure   54799681\n",
              "8       Hans Rosling   39871561\n",
              "9          Tim Urban   37976820\n",
              "10   Cameron Russell   33874546\n",
              "11         Sam Berns   33691484\n",
              "12    Chris Anderson   32598679\n",
              "13  Robert Waldinger   32396714\n",
              "14      Esther Perel   31460367"
            ]
          },
          "metadata": {},
          "execution_count": 354
        }
      ]
    },
    {
      "cell_type": "markdown",
      "metadata": {
        "id": "BCfduw8ZgF1c"
      },
      "source": [
        "* Alex Gendler is the most Popular speaker followed by Sir Ken Robinson\t "
      ]
    },
    {
      "cell_type": "code",
      "metadata": {
        "id": "BPVoYv9axPHW"
      },
      "source": [
        "# exploring the various event categories\n",
        "events=Ted_df.groupby('event')['views'].sum().nlargest(10).reset_index()"
      ],
      "execution_count": 355,
      "outputs": []
    },
    {
      "cell_type": "code",
      "metadata": {
        "colab": {
          "base_uri": "https://localhost:8080/",
          "height": 543
        },
        "id": "QZ_MghFTxSnp",
        "outputId": "4f55a649-fbdd-44df-9b1f-34a4022fa8a3"
      },
      "source": [
        "# Most popular event by No of Views\n",
        "plt.figure(figsize=(12,7))\n",
        "plt.title('most popular events')\n",
        "sns.barplot(x='event',y='views',data=events)\n",
        "plt.xticks(rotation=90)\n",
        "plt.show()"
      ],
      "execution_count": 356,
      "outputs": [
        {
          "output_type": "display_data",
          "data": {
            "image/png": "[encoded data removed]",
            "text/plain": [
              "<Figure size 864x504 with 1 Axes>"
            ]
          },
          "metadata": {}
        }
      ]
    },
    {
      "cell_type": "markdown",
      "metadata": {
        "id": "6IBVeFDxvGkT"
      },
      "source": [
        "* TED-Ed is the most popular event category with most no of views "
      ]
    },
    {
      "cell_type": "code",
      "metadata": {
        "colab": {
          "base_uri": "https://localhost:8080/",
          "height": 427
        },
        "id": "fOsaw-lmyi0V",
        "outputId": "bb6f4c97-5a52-490d-be5d-5c01c15433dc"
      },
      "source": [
        "# native language column\n",
        "#plotting the countplot of native_lang column\n",
        "plt.figure(figsize=(10,6))\n",
        "sns.countplot(x=Ted_df['native_lang'])\n",
        "plt.title('Native language')"
      ],
      "execution_count": 357,
      "outputs": [
        {
          "output_type": "execute_result",
          "data": {
            "text/plain": [
              "Text(0.5, 1.0, 'Native language')"
            ]
          },
          "metadata": {},
          "execution_count": 357
        },
        {
          "output_type": "display_data",
          "data": {
            "image/png": "[encoded data removed]",
            "text/plain": [
              "<Figure size 720x432 with 1 Axes>"
            ]
          },
          "metadata": {}
        }
      ]
    },
    {
      "cell_type": "markdown",
      "metadata": {
        "id": "vN8oVYD8zBej"
      },
      "source": [
        "* almost 99% videos are recorded in english language\n",
        "\n",
        "* We should drop this column as the data is very biaased here"
      ]
    },
    {
      "cell_type": "code",
      "metadata": {
        "id": "ZEAQyMkU11S0"
      },
      "source": [
        "# applying eval on occupations column\n",
        "Ted_df['occupations'] = Ted_df.apply(lambda row: eval(row['occupations']), axis=1)"
      ],
      "execution_count": 358,
      "outputs": []
    },
    {
      "cell_type": "code",
      "metadata": {
        "id": "TIoA-6Ws1RAK"
      },
      "source": [
        "#iterating through the each row and extracting occupations of speakers\n",
        "for index, row in Ted_df.iterrows():\n",
        "    occup_list=list(row['occupations'].values())[0][0]\n",
        "    Ted_df.loc[index,'occupation'] = str(occup_list)"
      ],
      "execution_count": 359,
      "outputs": []
    },
    {
      "cell_type": "code",
      "metadata": {
        "colab": {
          "base_uri": "https://localhost:8080/",
          "height": 460
        },
        "id": "LvRU9Z4c2iss",
        "outputId": "6497087e-5650-4c8f-eeca-6a1fa11473f0"
      },
      "source": [
        "# Most popular Occupations in terms of no of views\n",
        "occupation_views=Ted_df.groupby('occupation')['views'].sum().sort_values(ascending=False)[1:11].reset_index()\n",
        "plt.figure(figsize=(10,5))\n",
        "plt.title('Occupations having maximum views')\n",
        "sns.barplot(x='occupation',y='views',data=occupation_views)\n",
        "plt.xticks(rotation=90);\n"
      ],
      "execution_count": 360,
      "outputs": [
        {
          "output_type": "display_data",
          "data": {
            "image/png": "[encoded data removed]",
            "text/plain": [
              "<Figure size 720x360 with 1 Axes>"
            ]
          },
          "metadata": {}
        }
      ]
    },
    {
      "cell_type": "markdown",
      "metadata": {
        "id": "owIL20sFhrIy"
      },
      "source": [
        "* Speakers who are Writers are most popular followed by Authors and Psychologists"
      ]
    },
    {
      "cell_type": "code",
      "metadata": {
        "colab": {
          "base_uri": "https://localhost:8080/",
          "height": 359
        },
        "id": "lOd5dCzcfG0n",
        "outputId": "1dcbed99-befc-4e5b-82fb-749ffada5214"
      },
      "source": [
        "# Most discussed Ted Talks\n",
        "Ted_df.groupby('title')['comments'].sum().sort_values(ascending=False)[0:10].reset_index()\n"
      ],
      "execution_count": 361,
      "outputs": [
        {
          "output_type": "execute_result",
          "data": {
            "text/html": [
              "<div>\n",
              "<style scoped>\n",
              "    .dataframe tbody tr th:only-of-type {\n",
              "        vertical-align: middle;\n",
              "    }\n",
              "\n",
              "    .dataframe tbody tr th {\n",
              "        vertical-align: top;\n",
              "    }\n",
              "\n",
              "    .dataframe thead th {\n",
              "        text-align: right;\n",
              "    }\n",
              "</style>\n",
              "<table border=\"1\" class=\"dataframe\">\n",
              "  <thead>\n",
              "    <tr style=\"text-align: right;\">\n",
              "      <th></th>\n",
              "      <th>title</th>\n",
              "      <th>comments</th>\n",
              "    </tr>\n",
              "  </thead>\n",
              "  <tbody>\n",
              "    <tr>\n",
              "      <th>0</th>\n",
              "      <td>Militant atheism</td>\n",
              "      <td>6449.0</td>\n",
              "    </tr>\n",
              "    <tr>\n",
              "      <th>1</th>\n",
              "      <td>Do schools kill creativity?</td>\n",
              "      <td>4931.0</td>\n",
              "    </tr>\n",
              "    <tr>\n",
              "      <th>2</th>\n",
              "      <td>Science can answer moral questions</td>\n",
              "      <td>3424.0</td>\n",
              "    </tr>\n",
              "    <tr>\n",
              "      <th>3</th>\n",
              "      <td>How do you explain consciousness?</td>\n",
              "      <td>3006.0</td>\n",
              "    </tr>\n",
              "    <tr>\n",
              "      <th>4</th>\n",
              "      <td>My stroke of insight</td>\n",
              "      <td>2984.0</td>\n",
              "    </tr>\n",
              "    <tr>\n",
              "      <th>5</th>\n",
              "      <td>Your body language may shape who you are</td>\n",
              "      <td>2633.0</td>\n",
              "    </tr>\n",
              "    <tr>\n",
              "      <th>6</th>\n",
              "      <td>Taking imagination seriously</td>\n",
              "      <td>2529.0</td>\n",
              "    </tr>\n",
              "    <tr>\n",
              "      <th>7</th>\n",
              "      <td>On reading the Koran</td>\n",
              "      <td>2463.0</td>\n",
              "    </tr>\n",
              "    <tr>\n",
              "      <th>8</th>\n",
              "      <td>The danger of science denial</td>\n",
              "      <td>2366.0</td>\n",
              "    </tr>\n",
              "    <tr>\n",
              "      <th>9</th>\n",
              "      <td>The power of vulnerability</td>\n",
              "      <td>2209.0</td>\n",
              "    </tr>\n",
              "  </tbody>\n",
              "</table>\n",
              "</div>"
            ],
            "text/plain": [
              "                                      title  comments\n",
              "0                          Militant atheism    6449.0\n",
              "1               Do schools kill creativity?    4931.0\n",
              "2        Science can answer moral questions    3424.0\n",
              "3         How do you explain consciousness?    3006.0\n",
              "4                      My stroke of insight    2984.0\n",
              "5  Your body language may shape who you are    2633.0\n",
              "6              Taking imagination seriously    2529.0\n",
              "7                      On reading the Koran    2463.0\n",
              "8              The danger of science denial    2366.0\n",
              "9                The power of vulnerability    2209.0"
            ]
          },
          "metadata": {},
          "execution_count": 361
        }
      ]
    },
    {
      "cell_type": "markdown",
      "metadata": {
        "id": "aBA73VZjpr7q"
      },
      "source": [
        "* It seems that most of the debated topics are related to mainly Science and Religion "
      ]
    },
    {
      "cell_type": "markdown",
      "metadata": {
        "id": "SflAnAptRKdE"
      },
      "source": [
        "### Exploring the Numerical Features"
      ]
    },
    {
      "cell_type": "code",
      "metadata": {
        "id": "-JZHdymcS11C"
      },
      "source": [
        "numerical_features = Ted_df.describe().columns"
      ],
      "execution_count": 362,
      "outputs": []
    },
    {
      "cell_type": "code",
      "metadata": {
        "colab": {
          "base_uri": "https://localhost:8080/"
        },
        "id": "rDIklvg6TBKR",
        "outputId": "d8e75746-7088-4c39-a4b9-ab1fb9fb7d47"
      },
      "source": [
        "numerical_features"
      ],
      "execution_count": 363,
      "outputs": [
        {
          "output_type": "execute_result",
          "data": {
            "text/plain": [
              "Index(['views', 'comments', 'duration', 'release_year'], dtype='object')"
            ]
          },
          "metadata": {},
          "execution_count": 363
        }
      ]
    },
    {
      "cell_type": "code",
      "metadata": {
        "id": "prfER7uH0CjZ",
        "colab": {
          "base_uri": "https://localhost:8080/",
          "height": 1000
        },
        "outputId": "4b1263fe-524c-407b-ba7e-2982a52ca8d2"
      },
      "source": [
        "for feature in numerical_features[:3]:\n",
        "  plt.figure(figsize=(10,6))\n",
        "  sns.distplot((Ted_df[feature]),color='b')\n",
        "  plt.xlabel(feature)"
      ],
      "execution_count": 364,
      "outputs": [
        {
          "output_type": "display_data",
          "data": {
            "image/png": "[encoded data removed]",
            "text/plain": [
              "<Figure size 720x432 with 1 Axes>"
            ]
          },
          "metadata": {}
        },
        {
          "output_type": "display_data",
          "data": {
            "image/png": "[encoded data removed]",
            "text/plain": [
              "<Figure size 720x432 with 1 Axes>"
            ]
          },
          "metadata": {}
        },
        {
          "output_type": "display_data",
          "data": {
            "image/png": "[encoded data removed]",
            "text/plain": [
              "<Figure size 720x432 with 1 Axes>"
            ]
          },
          "metadata": {}
        }
      ]
    },
    {
      "cell_type": "markdown",
      "metadata": {
        "id": "kvRfAGiVUzJU"
      },
      "source": [
        "* All of the variables are rightly skewed"
      ]
    },
    {
      "cell_type": "markdown",
      "metadata": {
        "id": "XiqXGf4yr-pJ"
      },
      "source": [
        "###Categorical Features"
      ]
    },
    {
      "cell_type": "markdown",
      "metadata": {
        "id": "KTWASs4xr4Ir"
      },
      "source": [
        "* In Mean Encoding each distinct value of categorical value is replaced with average value of target variable."
      ]
    },
    {
      "cell_type": "code",
      "metadata": {
        "id": "ld1WM67jm8nq"
      },
      "source": [
        "#Applying Mean Encoding on speaker_1 column since it has high cardinality\n",
        "mean_encoding_speaker = Ted_df.groupby('speaker_1')['views'].mean().to_dict()\n",
        "Ted_df['avg_views_by_speaker']=Ted_df['speaker_1'].map(mean_encoding_speaker)"
      ],
      "execution_count": 365,
      "outputs": []
    },
    {
      "cell_type": "code",
      "metadata": {
        "colab": {
          "base_uri": "https://localhost:8080/",
          "height": 367
        },
        "id": "6UqLoEsnqYKg",
        "outputId": "872355d1-742f-49a9-d612-e492b22376f7"
      },
      "source": [
        "#Let's plot the speaker_1_avg_views column\n",
        "plt.figure(figsize=(10,5))\n",
        "sns.distplot(Ted_df['avg_views_by_speaker'])"
      ],
      "execution_count": 366,
      "outputs": [
        {
          "output_type": "execute_result",
          "data": {
            "text/plain": [
              "<matplotlib.axes._subplots.AxesSubplot at 0x7fcf2e673250>"
            ]
          },
          "metadata": {},
          "execution_count": 366
        },
        {
          "output_type": "display_data",
          "data": {
            "image/png": "[encoded data removed]",
            "text/plain": [
              "<Figure size 720x360 with 1 Axes>"
            ]
          },
          "metadata": {}
        }
      ]
    },
    {
      "cell_type": "code",
      "metadata": {
        "id": "rRRt0XtmsY-3"
      },
      "source": [
        "#Applying Mean Encoding on event column \n",
        "mean_encoding_event = Ted_df.groupby('event')['views'].mean().to_dict()\n",
        "Ted_df['avg_views_by_event']=Ted_df['event'].map(mean_encoding_event)"
      ],
      "execution_count": 367,
      "outputs": []
    },
    {
      "cell_type": "code",
      "metadata": {
        "colab": {
          "base_uri": "https://localhost:8080/",
          "height": 367
        },
        "id": "8Nou1urhs9pe",
        "outputId": "65db7e74-4161-45a7-ae92-79a47c100afa"
      },
      "source": [
        "#Let's plot the avg_views_by_event column\n",
        "plt.figure(figsize=(10,5))\n",
        "sns.distplot(Ted_df['avg_views_by_event'])"
      ],
      "execution_count": 368,
      "outputs": [
        {
          "output_type": "execute_result",
          "data": {
            "text/plain": [
              "<matplotlib.axes._subplots.AxesSubplot at 0x7fcf2e3de190>"
            ]
          },
          "metadata": {},
          "execution_count": 368
        },
        {
          "output_type": "display_data",
          "data": {
            "image/png": "[encoded data removed]",
            "text/plain": [
              "<Figure size 720x360 with 1 Axes>"
            ]
          },
          "metadata": {}
        }
      ]
    },
    {
      "cell_type": "markdown",
      "metadata": {
        "id": "8ex-kFIUuB_p"
      },
      "source": [
        "* Adding a new feature which contain the count of total no of languages for a particular video."
      ]
    },
    {
      "cell_type": "code",
      "metadata": {
        "id": "gkx-yzXcuLnl"
      },
      "source": [
        "Ted_df['total_lang'] = Ted_df.apply(lambda x: len(x['available_lang']), axis=1)"
      ],
      "execution_count": 369,
      "outputs": []
    },
    {
      "cell_type": "code",
      "metadata": {
        "colab": {
          "base_uri": "https://localhost:8080/",
          "height": 356
        },
        "id": "U8gfIJB0uZ2N",
        "outputId": "c88acb3f-6f13-4549-8e94-2540fef0296d"
      },
      "source": [
        "# plotting the total language column\n",
        "plt.figure(figsize=(10,5))\n",
        "sns.distplot(Ted_df['total_lang'])"
      ],
      "execution_count": 370,
      "outputs": [
        {
          "output_type": "execute_result",
          "data": {
            "text/plain": [
              "<matplotlib.axes._subplots.AxesSubplot at 0x7fcf2f9b8290>"
            ]
          },
          "metadata": {},
          "execution_count": 370
        },
        {
          "output_type": "display_data",
          "data": {
            "image/png": "[encoded data removed]",
            "text/plain": [
              "<Figure size 720x360 with 1 Axes>"
            ]
          },
          "metadata": {}
        }
      ]
    },
    {
      "cell_type": "markdown",
      "metadata": {
        "id": "4dQlXAV9vmau"
      },
      "source": [
        "* Adding a new feature which contain total no of topics for a particular video."
      ]
    },
    {
      "cell_type": "code",
      "metadata": {
        "colab": {
          "base_uri": "https://localhost:8080/",
          "height": 35
        },
        "id": "QqMr1MpkwOfP",
        "outputId": "2d69111b-ac0b-4645-ac3c-dadbd19bc736"
      },
      "source": [
        "Ted_df['topics'][0]"
      ],
      "execution_count": 371,
      "outputs": [
        {
          "output_type": "execute_result",
          "data": {
            "application/vnd.google.colaboratory.intrinsic+json": {
              "type": "string"
            },
            "text/plain": [
              "\"['alternative energy', 'cars', 'climate change', 'culture', 'environment', 'global issues', 'science', 'sustainability', 'technology']\""
            ]
          },
          "metadata": {},
          "execution_count": 371
        }
      ]
    },
    {
      "cell_type": "code",
      "metadata": {
        "id": "_SO22RNEveWp"
      },
      "source": [
        "# applying eval on topics column\n",
        "Ted_df['topics'] = Ted_df.apply(lambda row: eval(row['topics']), axis=1)"
      ],
      "execution_count": 372,
      "outputs": []
    },
    {
      "cell_type": "code",
      "metadata": {
        "id": "LwMKnw_3wdJt"
      },
      "source": [
        "Ted_df['no_of_topics'] = Ted_df.apply(lambda x: len(x['topics']), axis=1)"
      ],
      "execution_count": 373,
      "outputs": []
    },
    {
      "cell_type": "code",
      "metadata": {
        "colab": {
          "base_uri": "https://localhost:8080/",
          "height": 356
        },
        "id": "K60oW29lv7Bg",
        "outputId": "ab87d6f3-0c95-4df2-d734-53399724d744"
      },
      "source": [
        "# plotting no of topics column\n",
        "plt.figure(figsize=(10,5))\n",
        "sns.distplot(Ted_df['no_of_topics'])"
      ],
      "execution_count": 374,
      "outputs": [
        {
          "output_type": "execute_result",
          "data": {
            "text/plain": [
              "<matplotlib.axes._subplots.AxesSubplot at 0x7fcf2d62b4d0>"
            ]
          },
          "metadata": {},
          "execution_count": 374
        },
        {
          "output_type": "display_data",
          "data": {
            "image/png": "[encoded data removed]",
            "text/plain": [
              "<Figure size 720x360 with 1 Axes>"
            ]
          },
          "metadata": {}
        }
      ]
    },
    {
      "cell_type": "markdown",
      "metadata": {
        "id": "XV1kLuhjxFfK"
      },
      "source": [
        "* We can add a new column called video_age which is the difference of current year and published year."
      ]
    },
    {
      "cell_type": "code",
      "metadata": {
        "id": "UM7MErzBw2Uz"
      },
      "source": [
        "Ted_df['video_age']=2021-Ted_df['release_year']\n"
      ],
      "execution_count": 375,
      "outputs": []
    },
    {
      "cell_type": "markdown",
      "metadata": {
        "id": "x2TY8A4BxQtI"
      },
      "source": [
        "* Now we can drop the columns which are not required"
      ]
    },
    {
      "cell_type": "code",
      "metadata": {
        "id": "jnCcltVYxYGJ"
      },
      "source": [
        "Ted_df.drop(['title','all_speakers','recorded_date','release_year','topics','available_lang','event','speaker_1','url','transcript','description','native_lang','occupations','occupation','published_date','related_talks'],axis=1,inplace=True)"
      ],
      "execution_count": 376,
      "outputs": []
    },
    {
      "cell_type": "code",
      "metadata": {
        "id": "1vb_Se4_19JH"
      },
      "source": [
        "df=Ted_df.copy()"
      ],
      "execution_count": 377,
      "outputs": []
    },
    {
      "cell_type": "code",
      "metadata": {
        "id": "5B0ekHtG2CW5"
      },
      "source": [
        "Ted_df=df.copy()"
      ],
      "execution_count": 378,
      "outputs": []
    },
    {
      "cell_type": "markdown",
      "metadata": {
        "id": "_rD9f6bh4qTH"
      },
      "source": [
        "###Outliers Treatment"
      ]
    },
    {
      "cell_type": "code",
      "metadata": {
        "colab": {
          "base_uri": "https://localhost:8080/"
        },
        "id": "DwnrCGz42zrQ",
        "outputId": "4cd29fa6-ff75-4489-9a4d-1e7f0b0f0582"
      },
      "source": [
        "#checking the outliers\n",
        "Q1 = Ted_df.quantile(0.25)\n",
        "Q3 = Ted_df.quantile(0.75)\n",
        "IQR = Q3 - Q1\n",
        "\n",
        "((Ted_df < (Q1 - 1.5 * IQR)) | (Ted_df > (Q3 + 1.5 * IQR))).sum()"
      ],
      "execution_count": 379,
      "outputs": [
        {
          "output_type": "execute_result",
          "data": {
            "text/plain": [
              "avg_views_by_event      156\n",
              "avg_views_by_speaker    373\n",
              "comments                361\n",
              "duration                 21\n",
              "no_of_topics            116\n",
              "release_day               0\n",
              "release_month             0\n",
              "total_lang              143\n",
              "video_age                 0\n",
              "views                   393\n",
              "dtype: int64"
            ]
          },
          "metadata": {},
          "execution_count": 379
        }
      ]
    },
    {
      "cell_type": "code",
      "metadata": {
        "id": "MAENsJDx5EvZ"
      },
      "source": [
        "# Replacing outliers with extreme values\n",
        "for i in ['avg_views_by_event','avg_views_by_speaker','comments','duration','no_of_topics','total_lang','views']:\n",
        "  Q1 = Ted_df[i].quantile(0.25)\n",
        "  Q3 = Ted_df[i].quantile(0.75)\n",
        "  IQR = Q3 - Q1\n",
        "\n",
        "  Ted_df[i]=np.where(Ted_df[i]<(Q1 - 1.5 * IQR),(Q1 - 1.5 * IQR),np.where(Ted_df[i]>(Q3 + 1.5 * IQR),(Q3 + 1.5 * IQR),Ted_df[i]))"
      ],
      "execution_count": 380,
      "outputs": []
    },
    {
      "cell_type": "code",
      "metadata": {
        "colab": {
          "base_uri": "https://localhost:8080/"
        },
        "id": "lwDWdLE16GOg",
        "outputId": "e6f8b1e3-5bb3-4329-df4d-4efa21b79cbb"
      },
      "source": [
        "#Let's check the outliers again\n",
        "Q1 = df.quantile(0.25)\n",
        "Q3 = df.quantile(0.75)\n",
        "IQR = Q3 - Q1\n",
        "((Ted_df < (Q1 - 1.5 * IQR)) | (Ted_df > (Q3 + 1.5 * IQR))).sum()"
      ],
      "execution_count": 381,
      "outputs": [
        {
          "output_type": "execute_result",
          "data": {
            "text/plain": [
              "avg_views_by_event      0\n",
              "avg_views_by_speaker    0\n",
              "comments                0\n",
              "duration                0\n",
              "no_of_topics            0\n",
              "release_day             0\n",
              "release_month           0\n",
              "total_lang              0\n",
              "video_age               0\n",
              "views                   0\n",
              "dtype: int64"
            ]
          },
          "metadata": {},
          "execution_count": 381
        }
      ]
    },
    {
      "cell_type": "code",
      "metadata": {
        "id": "1D7STmbv6QYV"
      },
      "source": [
        "#separating the dependent and independent variables\n",
        "y=Ted_df['views']\n",
        "x=Ted_df.drop(columns='views')"
      ],
      "execution_count": 450,
      "outputs": []
    },
    {
      "cell_type": "code",
      "metadata": {
        "colab": {
          "base_uri": "https://localhost:8080/",
          "height": 80
        },
        "id": "be8WI5Zk7kWU",
        "outputId": "8c858f09-c3e8-47db-bad2-0931cfdaffe8"
      },
      "source": [
        "x.head(1)"
      ],
      "execution_count": 428,
      "outputs": [
        {
          "output_type": "execute_result",
          "data": {
            "text/html": [
              "<div>\n",
              "<style scoped>\n",
              "    .dataframe tbody tr th:only-of-type {\n",
              "        vertical-align: middle;\n",
              "    }\n",
              "\n",
              "    .dataframe tbody tr th {\n",
              "        vertical-align: top;\n",
              "    }\n",
              "\n",
              "    .dataframe thead th {\n",
              "        text-align: right;\n",
              "    }\n",
              "</style>\n",
              "<table border=\"1\" class=\"dataframe\">\n",
              "  <thead>\n",
              "    <tr style=\"text-align: right;\">\n",
              "      <th></th>\n",
              "      <th>comments</th>\n",
              "      <th>duration</th>\n",
              "      <th>release_day</th>\n",
              "      <th>release_month</th>\n",
              "      <th>avg_views_by_speaker</th>\n",
              "      <th>avg_views_by_event</th>\n",
              "      <th>total_lang</th>\n",
              "      <th>no_of_topics</th>\n",
              "      <th>video_age</th>\n",
              "    </tr>\n",
              "  </thead>\n",
              "  <tbody>\n",
              "    <tr>\n",
              "      <th>0</th>\n",
              "      <td>272.0</td>\n",
              "      <td>977.0</td>\n",
              "      <td>Tuesday</td>\n",
              "      <td>June</td>\n",
              "      <td>2190599.25</td>\n",
              "      <td>3.778944e+06</td>\n",
              "      <td>270.0</td>\n",
              "      <td>9.0</td>\n",
              "      <td>15</td>\n",
              "    </tr>\n",
              "  </tbody>\n",
              "</table>\n",
              "</div>"
            ],
            "text/plain": [
              "   comments  duration release_day  ... total_lang  no_of_topics  video_age\n",
              "0     272.0     977.0     Tuesday  ...      270.0           9.0         15\n",
              "\n",
              "[1 rows x 9 columns]"
            ]
          },
          "metadata": {},
          "execution_count": 428
        }
      ]
    },
    {
      "cell_type": "markdown",
      "metadata": {
        "id": "hW6gBgRP8JF5"
      },
      "source": [
        "###One hot encoding:"
      ]
    },
    {
      "cell_type": "code",
      "metadata": {
        "colab": {
          "base_uri": "https://localhost:8080/"
        },
        "id": "w0OKYQAF8QO3",
        "outputId": "0a487dfd-23c5-4d55-acc3-32b4563eaca3"
      },
      "source": [
        "x=pd.get_dummies(x)\n",
        "x.shape"
      ],
      "execution_count": 451,
      "outputs": [
        {
          "output_type": "execute_result",
          "data": {
            "text/plain": [
              "(4005, 26)"
            ]
          },
          "metadata": {},
          "execution_count": 451
        }
      ]
    },
    {
      "cell_type": "code",
      "metadata": {
        "colab": {
          "base_uri": "https://localhost:8080/",
          "height": 100
        },
        "id": "UPZFbF4281o-",
        "outputId": "af71f9ef-aaf9-41ff-a5af-344f5d16540e"
      },
      "source": [
        "x.head(1)"
      ],
      "execution_count": 430,
      "outputs": [
        {
          "output_type": "execute_result",
          "data": {
            "text/html": [
              "<div>\n",
              "<style scoped>\n",
              "    .dataframe tbody tr th:only-of-type {\n",
              "        vertical-align: middle;\n",
              "    }\n",
              "\n",
              "    .dataframe tbody tr th {\n",
              "        vertical-align: top;\n",
              "    }\n",
              "\n",
              "    .dataframe thead th {\n",
              "        text-align: right;\n",
              "    }\n",
              "</style>\n",
              "<table border=\"1\" class=\"dataframe\">\n",
              "  <thead>\n",
              "    <tr style=\"text-align: right;\">\n",
              "      <th></th>\n",
              "      <th>comments</th>\n",
              "      <th>duration</th>\n",
              "      <th>avg_views_by_speaker</th>\n",
              "      <th>avg_views_by_event</th>\n",
              "      <th>total_lang</th>\n",
              "      <th>no_of_topics</th>\n",
              "      <th>video_age</th>\n",
              "      <th>release_day_Friday</th>\n",
              "      <th>release_day_Monday</th>\n",
              "      <th>release_day_Saturday</th>\n",
              "      <th>release_day_Sunday</th>\n",
              "      <th>release_day_Thursday</th>\n",
              "      <th>release_day_Tuesday</th>\n",
              "      <th>release_day_Wednesday</th>\n",
              "      <th>release_month_April</th>\n",
              "      <th>release_month_Aug</th>\n",
              "      <th>release_month_Dec</th>\n",
              "      <th>release_month_Feb</th>\n",
              "      <th>release_month_Jan</th>\n",
              "      <th>release_month_July</th>\n",
              "      <th>release_month_June</th>\n",
              "      <th>release_month_March</th>\n",
              "      <th>release_month_May</th>\n",
              "      <th>release_month_Nov</th>\n",
              "      <th>release_month_Oct</th>\n",
              "      <th>release_month_Sep</th>\n",
              "    </tr>\n",
              "  </thead>\n",
              "  <tbody>\n",
              "    <tr>\n",
              "      <th>0</th>\n",
              "      <td>272.0</td>\n",
              "      <td>977.0</td>\n",
              "      <td>2190599.25</td>\n",
              "      <td>3.778944e+06</td>\n",
              "      <td>270.0</td>\n",
              "      <td>9.0</td>\n",
              "      <td>15</td>\n",
              "      <td>0</td>\n",
              "      <td>0</td>\n",
              "      <td>0</td>\n",
              "      <td>0</td>\n",
              "      <td>0</td>\n",
              "      <td>1</td>\n",
              "      <td>0</td>\n",
              "      <td>0</td>\n",
              "      <td>0</td>\n",
              "      <td>0</td>\n",
              "      <td>0</td>\n",
              "      <td>0</td>\n",
              "      <td>0</td>\n",
              "      <td>1</td>\n",
              "      <td>0</td>\n",
              "      <td>0</td>\n",
              "      <td>0</td>\n",
              "      <td>0</td>\n",
              "      <td>0</td>\n",
              "    </tr>\n",
              "  </tbody>\n",
              "</table>\n",
              "</div>"
            ],
            "text/plain": [
              "   comments  duration  ...  release_month_Oct  release_month_Sep\n",
              "0     272.0     977.0  ...                  0                  0\n",
              "\n",
              "[1 rows x 26 columns]"
            ]
          },
          "metadata": {},
          "execution_count": 430
        }
      ]
    },
    {
      "cell_type": "markdown",
      "metadata": {
        "id": "vaqSLtX79HNG"
      },
      "source": [
        "###Feature Selection:"
      ]
    },
    {
      "cell_type": "code",
      "metadata": {
        "id": "INhZnaN99N2F"
      },
      "source": [
        "# using f-scores to do feature selection\n",
        "#importing the libraries\n",
        "from sklearn.feature_selection import SelectKBest\n",
        "from sklearn.feature_selection import f_regression"
      ],
      "execution_count": 391,
      "outputs": []
    },
    {
      "cell_type": "code",
      "metadata": {
        "colab": {
          "base_uri": "https://localhost:8080/"
        },
        "id": "uVXvrZkg9Yit",
        "outputId": "439f8fff-133d-4eaa-fe79-fc824116d865"
      },
      "source": [
        "#finding the f scores of each features\n",
        "f_scores = f_regression(x, y)\n",
        "f_scores"
      ],
      "execution_count": 392,
      "outputs": [
        {
          "output_type": "execute_result",
          "data": {
            "text/plain": [
              "(array([7.89640116e+02, 3.63920086e+01, 1.61894391e+04, 6.21645241e+02,\n",
              "        9.36302821e+02, 2.22138034e+00, 7.26280093e-01, 4.93457071e+01,\n",
              "        2.14095360e+00, 1.69801520e+01, 1.32688878e+01, 4.22782469e+00,\n",
              "        1.54608611e+00, 5.17596240e-03, 4.42937898e+00, 5.29481408e-01,\n",
              "        3.19042540e+00, 9.10855944e-01, 3.61273001e+00, 1.59320065e+00,\n",
              "        7.00546927e-01, 1.20164944e+01, 3.34840829e+00, 3.24993722e+00,\n",
              "        6.69041425e+00, 1.59197663e+00]),\n",
              " array([9.90841321e-159, 1.75975910e-009, 0.00000000e+000, 1.13785436e-127,\n",
              "        5.81214882e-185, 1.36190106e-001, 3.94142602e-001, 2.51061953e-012,\n",
              "        1.43491232e-001, 3.85368618e-005, 2.73265521e-004, 3.98310726e-002,\n",
              "        2.13786984e-001, 9.42649939e-001, 3.53875418e-002, 4.66867525e-001,\n",
              "        7.41463988e-002, 3.39945041e-001, 5.74106856e-002, 2.06942978e-001,\n",
              "        4.02649944e-001, 5.32863676e-004, 6.73443607e-002, 7.15013746e-002,\n",
              "        9.72823723e-003, 2.07117470e-001]))"
            ]
          },
          "metadata": {},
          "execution_count": 392
        }
      ]
    },
    {
      "cell_type": "code",
      "metadata": {
        "colab": {
          "base_uri": "https://localhost:8080/",
          "height": 464
        },
        "id": "C007UTTj9h_F",
        "outputId": "c7f92730-eb72-4620-e4e4-9828b01994c4"
      },
      "source": [
        "#Plotting the p-values \n",
        "p_values= pd.Series(f_scores[1],index= x.columns)\n",
        "plt.figure(figsize=(10,5))\n",
        "p_values.plot(kind='bar')\n",
        "plt.title('P-value scores for numerical features')\n",
        "plt.show()"
      ],
      "execution_count": 396,
      "outputs": [
        {
          "output_type": "display_data",
          "data": {
            "image/png": "[encoded data removed]",
            "text/plain": [
              "<Figure size 720x360 with 1 Axes>"
            ]
          },
          "metadata": {}
        }
      ]
    },
    {
      "cell_type": "code",
      "metadata": {
        "id": "-WtB3bZn_PjW"
      },
      "source": [
        "# dropping the features with high p-value\n",
        "selected_features = np.where(p_values<0.005)[0]\n",
        "x=x.iloc[0:,selected_features]\n"
      ],
      "execution_count": 452,
      "outputs": []
    },
    {
      "cell_type": "code",
      "metadata": {
        "colab": {
          "base_uri": "https://localhost:8080/",
          "height": 513
        },
        "id": "P0C11cCNClTu",
        "outputId": "67052cd3-f4bd-44ce-925b-c2831871be5d"
      },
      "source": [
        "# plotting the heatmap.\n",
        "fig = plt.figure(figsize=(12,6))\n",
        "ax = fig.add_subplot(111)\n",
        "sns.heatmap(x.corr(),annot=True)"
      ],
      "execution_count": 455,
      "outputs": [
        {
          "output_type": "execute_result",
          "data": {
            "text/plain": [
              "<matplotlib.axes._subplots.AxesSubplot at 0x7fcf23554b50>"
            ]
          },
          "metadata": {},
          "execution_count": 455
        },
        {
          "output_type": "display_data",
          "data": {
            "image/png": "[encoded data removed]",
            "text/plain": [
              "<Figure size 864x432 with 2 Axes>"
            ]
          },
          "metadata": {}
        }
      ]
    }
  ]
}